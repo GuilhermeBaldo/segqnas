{
 "cells": [
  {
   "cell_type": "code",
   "execution_count": null,
   "metadata": {},
   "outputs": [],
   "source": [
    "#!python prepare_data_spleen.py\n",
    "#!python run_spleen_.py"
   ]
  },
  {
   "cell_type": "code",
   "execution_count": null,
   "metadata": {},
   "outputs": [],
   "source": [
    "from cnn.train import cross_val_train\n",
    "\n",
    "# import tensorflow as tf\n",
    "\n",
    "# gpus = tf.config.experimental.list_physical_devices(\"GPU\")\n",
    "# if gpus:\n",
    "#     try:\n",
    "#         tf.config.experimental.set_virtual_device_configuration(\n",
    "#             gpus[0],\n",
    "#             [tf.config.experimental.VirtualDeviceConfiguration(memory_limit=4096)],\n",
    "#         )\n",
    "#     except RuntimeError as e:\n",
    "#         print(e)\n",
    "\n",
    "# gpus"
   ]
  },
  {
   "cell_type": "code",
   "execution_count": null,
   "metadata": {},
   "outputs": [],
   "source": [
    "train_params = {\n",
    "    \"batch_size\": 32,\n",
    "    \"epochs\": 50,\n",
    "    \"eval_epochs\": 10,\n",
    "    \"initializations\": 5,\n",
    "    \"folds\": 5,\n",
    "    \"stem_filters\": 16,\n",
    "    \"max_depth\": 4,\n",
    "    \"data_path\": \"spleen_dataset/data/Task09_Spleen_preprocessed/\",\n",
    "    \"image_size\": 128,\n",
    "    \"skip_slices\": 1,\n",
    "    \"num_channels\": 1,\n",
    "    \"num_classes\": 2,\n",
    "    \"data_augmentation\": True,\n",
    "}\n",
    "\n",
    "net_list = [\n",
    "    \"non_vgg_3\",\n",
    "    \"down_vgg_3\",\n",
    "    \"down_vgg_3\",\n",
    "    \"down_vgg_3\",\n",
    "    \"down_vgg_3\",\n",
    "    \"up_vgg_3\",\n",
    "    \"up_vgg_3\",\n",
    "    \"up_vgg_3\",\n",
    "    \"up_vgg_3\",\n",
    "    \"non_vgg_3\",\n",
    "]\n",
    "\n",
    "layer_dict = {\n",
    "    \"down_vgg_3\": {\n",
    "        \"cell\": \"DownscalingCell\",\n",
    "        \"block\": \"VGGBlock\",\n",
    "        \"kernel\": 3,\n",
    "        \"prob\": 1 / 3,\n",
    "    },\n",
    "    \"up_vgg_3\": {\n",
    "        \"cell\": \"UpscalingCell\",\n",
    "        \"block\": \"VGGBlock\",\n",
    "        \"kernel\": 3,\n",
    "        \"prob\": 1 / 3,\n",
    "    },\n",
    "    \"non_vgg_3\": {\n",
    "        \"cell\": \"NonscalingCell\",\n",
    "        \"block\": \"VGGBlock\",\n",
    "        \"kernel\": 3,\n",
    "        \"prob\": 1 / 3,\n",
    "    },\n",
    "}"
   ]
  },
  {
   "cell_type": "code",
   "execution_count": null,
   "metadata": {},
   "outputs": [],
   "source": [
    "cross_val_train(train_params, layer_dict, net_list)"
   ]
  }
 ],
 "metadata": {
  "kernelspec": {
   "display_name": "Python 3.8.13 ('.venv': venv)",
   "language": "python",
   "name": "python3"
  },
  "language_info": {
   "codemirror_mode": {
    "name": "ipython",
    "version": 3
   },
   "file_extension": ".py",
   "mimetype": "text/x-python",
   "name": "python",
   "nbconvert_exporter": "python",
   "pygments_lexer": "ipython3",
   "version": "3.8.13"
  },
  "orig_nbformat": 4,
  "vscode": {
   "interpreter": {
    "hash": "79f34ae2563cf6a2df54fcc2fc47cdbaf206a86844b28bd2ca11c1c53b338106"
   }
  }
 },
 "nbformat": 4,
 "nbformat_minor": 2
}
