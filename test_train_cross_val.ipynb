{
 "cells": [
  {
   "cell_type": "code",
   "execution_count": 1,
   "metadata": {},
   "outputs": [],
   "source": [
    "from cnn.model import build_net\n",
    "\n",
    "from spleen_dataset.dataloader import SpleenDataloader, SpleenDataset, get_training_augmentation, get_validation_augmentation\n",
    "from spleen_dataset.config import dataset_folder\n",
    "from spleen_dataset.utils import get_split_deterministic, get_list_of_patients\n",
    "\n",
    "from tensorflow.keras.callbacks import ModelCheckpoint, ReduceLROnPlateau, EarlyStopping, TensorBoard\n",
    "import matplotlib.pyplot as plt\n",
    "import random\n",
    "import numpy as np\n",
    "\n",
    "import tensorflow as tf\n",
    "gpus = tf.config.experimental.list_physical_devices('GPU')\n",
    "if gpus:\n",
    "  try:\n",
    "    tf.config.experimental.set_virtual_device_configuration(gpus[0], [tf.config.experimental.VirtualDeviceConfiguration(memory_limit=5120)])\n",
    "    #tf.config.experimental.set_memory_growth(gpus[0], False)\n",
    "  except RuntimeError as e:\n",
    "    print(e)"
   ]
  },
  {
   "cell_type": "code",
   "execution_count": null,
   "metadata": {},
   "outputs": [],
   "source": [
    "patients = get_list_of_patients(dataset_folder)"
   ]
  },
  {
   "cell_type": "code",
   "execution_count": null,
   "metadata": {},
   "outputs": [],
   "source": [
    "patch_size = (128, 128)\n",
    "batch_size = 32\n",
    "num_classes = 2\n",
    "train_augmentation = get_training_augmentation(patch_size)\n",
    "val_augmentation = get_validation_augmentation(patch_size)\n",
    "\n",
    "net_list = [\n",
    "    'xception_3_32', \n",
    "    'xception_3_64',\n",
    "    'xception_3_64',\n",
    "    'xception_3_256',\n",
    "    'xception_3_512',\n",
    "    'xception_3_256',\n",
    "    'xception_3_128',\n",
    "    'xception_3_64',\n",
    "    'xception_3_32'\n",
    "]\n",
    "\n",
    "fn_dict = {\n",
    "    'vgg_3_32':       {'block': 'VGGBlock',      'params': {'kernel': 3, 'filters': 32},  'prob': 1/36},\n",
    "    'vgg_3_64':       {'block': 'VGGBlock',      'params': {'kernel': 3, 'filters': 64},  'prob': 1/36},\n",
    "    'vgg_3_128':      {'block': 'VGGBlock',      'params': {'kernel': 3, 'filters': 128}, 'prob': 1/36},\n",
    "    'vgg_3_256':      {'block': 'VGGBlock',      'params': {'kernel': 3, 'filters': 256}, 'prob': 1/36},\n",
    "    'vgg_3_512':      {'block': 'VGGBlock',      'params': {'kernel': 3, 'filters': 512}, 'prob': 1/36},\n",
    "    'resnet_3_32':    {'block': 'ResNetBlock',   'params': {'kernel': 3, 'filters': 32},  'prob': 1/36},\n",
    "    'resnet_3_64':    {'block': 'ResNetBlock',   'params': {'kernel': 3, 'filters': 64},  'prob': 1/36},\n",
    "    'resnet_3_128':   {'block': 'ResNetBlock',   'params': {'kernel': 3, 'filters': 128}, 'prob': 1/36},\n",
    "    'resnet_3_256':   {'block': 'ResNetBlock',   'params': {'kernel': 3, 'filters': 256}, 'prob': 1/36},\n",
    "    'resnet_3_512':   {'block': 'ResNetBlock',   'params': {'kernel': 3, 'filters': 512}, 'prob': 1/36},\n",
    "    'xception_3_32':  {'block': 'XceptionBlock', 'params': {'kernel': 3, 'filters': 32},  'prob': 1/36},\n",
    "    'xception_3_64':  {'block': 'XceptionBlock', 'params': {'kernel': 3, 'filters': 64},  'prob': 1/36},\n",
    "    'xception_3_128': {'block': 'XceptionBlock', 'params': {'kernel': 3, 'filters': 128}, 'prob': 1/36},\n",
    "    'xception_3_256': {'block': 'XceptionBlock', 'params': {'kernel': 3, 'filters': 256}, 'prob': 1/36},\n",
    "    'xception_3_512': {'block': 'XceptionBlock', 'params': {'kernel': 3, 'filters': 512}, 'prob': 1/36},\n",
    "    'mbconv_3_32':    {'block': 'MBConvBlock',   'params': {'kernel': 3, 'filters': 32},  'prob': 1/36},\n",
    "    'mbconv_3_64':    {'block': 'MBConvBlock',   'params': {'kernel': 3, 'filters': 64},  'prob': 1/36},\n",
    "    'mbconv_3_128':   {'block': 'MBConvBlock',   'params': {'kernel': 3, 'filters': 128}, 'prob': 1/36},\n",
    "    'mbconv_3_256':   {'block': 'MBConvBlock',   'params': {'kernel': 3, 'filters': 256}, 'prob': 1/36},\n",
    "    'mbconv_3_512':   {'block': 'MBConvBlock',   'params': {'kernel': 3, 'filters': 512}, 'prob': 1/36},\n",
    "}"
   ]
  },
  {
   "cell_type": "code",
   "execution_count": null,
   "metadata": {},
   "outputs": [
    {
     "ename": "NameError",
     "evalue": "name 'regularizers' is not defined",
     "output_type": "error",
     "traceback": [
      "\u001b[0;31m---------------------------------------------------------------------------\u001b[0m",
      "\u001b[0;31mNameError\u001b[0m                                 Traceback (most recent call last)",
      "\u001b[1;32m/home/guilherme/git/segqnas/test_train_cross_val.ipynb Cell 4'\u001b[0m in \u001b[0;36m<cell line: 6>\u001b[0;34m()\u001b[0m\n\u001b[1;32m     <a href='vscode-notebook-cell:/home/guilherme/git/segqnas/test_train_cross_val.ipynb#ch0000004?line=13'>14</a>\u001b[0m train_dataloader \u001b[39m=\u001b[39m SpleenDataloader(train_dataset, batch_size, train_augmentation)\n\u001b[1;32m     <a href='vscode-notebook-cell:/home/guilherme/git/segqnas/test_train_cross_val.ipynb#ch0000004?line=14'>15</a>\u001b[0m val_dataloader \u001b[39m=\u001b[39m SpleenDataloader(val_dataset, batch_size, val_augmentation)\n\u001b[0;32m---> <a href='vscode-notebook-cell:/home/guilherme/git/segqnas/test_train_cross_val.ipynb#ch0000004?line=16'>17</a>\u001b[0m model \u001b[39m=\u001b[39m build_net((\u001b[39m*\u001b[39;49mpatch_size, \u001b[39m1\u001b[39;49m), num_classes, fn_dict, net_list)\n\u001b[1;32m     <a href='vscode-notebook-cell:/home/guilherme/git/segqnas/test_train_cross_val.ipynb#ch0000004?line=18'>19</a>\u001b[0m checkpoint_filepath \u001b[39m=\u001b[39m \u001b[39m'\u001b[39m\u001b[39m/tmp/checkpoint\u001b[39m\u001b[39m'\u001b[39m\n\u001b[1;32m     <a href='vscode-notebook-cell:/home/guilherme/git/segqnas/test_train_cross_val.ipynb#ch0000004?line=19'>20</a>\u001b[0m model_checkpoint_callback \u001b[39m=\u001b[39m tf\u001b[39m.\u001b[39mkeras\u001b[39m.\u001b[39mcallbacks\u001b[39m.\u001b[39mModelCheckpoint(\n\u001b[1;32m     <a href='vscode-notebook-cell:/home/guilherme/git/segqnas/test_train_cross_val.ipynb#ch0000004?line=20'>21</a>\u001b[0m     filepath\u001b[39m=\u001b[39mcheckpoint_filepath,\n\u001b[1;32m     <a href='vscode-notebook-cell:/home/guilherme/git/segqnas/test_train_cross_val.ipynb#ch0000004?line=21'>22</a>\u001b[0m     save_weights_only\u001b[39m=\u001b[39m\u001b[39mTrue\u001b[39;00m,\n\u001b[1;32m     <a href='vscode-notebook-cell:/home/guilherme/git/segqnas/test_train_cross_val.ipynb#ch0000004?line=22'>23</a>\u001b[0m     monitor\u001b[39m=\u001b[39m\u001b[39m'\u001b[39m\u001b[39mval_gen_dice_coef\u001b[39m\u001b[39m'\u001b[39m,\n\u001b[1;32m     <a href='vscode-notebook-cell:/home/guilherme/git/segqnas/test_train_cross_val.ipynb#ch0000004?line=23'>24</a>\u001b[0m     mode\u001b[39m=\u001b[39m\u001b[39m'\u001b[39m\u001b[39mmax\u001b[39m\u001b[39m'\u001b[39m,\n\u001b[1;32m     <a href='vscode-notebook-cell:/home/guilherme/git/segqnas/test_train_cross_val.ipynb#ch0000004?line=24'>25</a>\u001b[0m     save_best_only\u001b[39m=\u001b[39m\u001b[39mTrue\u001b[39;00m)\n",
      "File \u001b[0;32m~/git/segqnas/cnn/model.py:21\u001b[0m, in \u001b[0;36mbuild_net\u001b[0;34m(input_shape, num_classes, fn_dict, net_list, is_train)\u001b[0m\n\u001b[1;32m     19\u001b[0m     kernel_size \u001b[39m=\u001b[39m fn_dict[cell][\u001b[39m\"\u001b[39m\u001b[39mparams\u001b[39m\u001b[39m\"\u001b[39m][\u001b[39m\"\u001b[39m\u001b[39mkernel\u001b[39m\u001b[39m\"\u001b[39m]\n\u001b[1;32m     20\u001b[0m     filters \u001b[39m=\u001b[39m fn_dict[cell][\u001b[39m\"\u001b[39m\u001b[39mparams\u001b[39m\u001b[39m\"\u001b[39m][\u001b[39m\"\u001b[39m\u001b[39mfilters\u001b[39m\u001b[39m\"\u001b[39m]\n\u001b[0;32m---> 21\u001b[0m     x \u001b[39m=\u001b[39m DownscalingCell(block, kernel_size, filters)(x)\n\u001b[1;32m     22\u001b[0m     skips\u001b[39m.\u001b[39mappend(x)\n\u001b[1;32m     24\u001b[0m cell \u001b[39m=\u001b[39m net_list[\u001b[39m4\u001b[39m]\n",
      "File \u001b[0;32m~/git/segqnas/cnn/cells.py:59\u001b[0m, in \u001b[0;36mDownscalingCell.__call__\u001b[0;34m(self, inputs, name, is_train)\u001b[0m\n\u001b[1;32m     56\u001b[0m     x \u001b[39m=\u001b[39m \u001b[39mself\u001b[39m\u001b[39m.\u001b[39m_concat(inputs)\n\u001b[1;32m     57\u001b[0m     x \u001b[39m=\u001b[39m \u001b[39mself\u001b[39m\u001b[39m.\u001b[39m_conv_1x1(x)\n\u001b[0;32m---> 59\u001b[0m x \u001b[39m=\u001b[39m \u001b[39mself\u001b[39;49m\u001b[39m.\u001b[39;49mblock(x, is_train\u001b[39m=\u001b[39;49mis_train)\n\u001b[1;32m     61\u001b[0m x \u001b[39m=\u001b[39m \u001b[39mself\u001b[39m\u001b[39m.\u001b[39m_max_pool(x)\n\u001b[1;32m     63\u001b[0m \u001b[39mreturn\u001b[39;00m x\n",
      "File \u001b[0;32m~/git/segqnas/cnn/blocks.py:130\u001b[0m, in \u001b[0;36mXceptionBlock.__call__\u001b[0;34m(self, inputs, name, is_train)\u001b[0m\n\u001b[1;32m    127\u001b[0m     s \u001b[39m=\u001b[39m inputs\n\u001b[1;32m    128\u001b[0m \u001b[39melse\u001b[39;00m:\n\u001b[1;32m    129\u001b[0m     \u001b[39m# this is done to match filters in the shortcut\u001b[39;00m\n\u001b[0;32m--> 130\u001b[0m     s \u001b[39m=\u001b[39m \u001b[39mself\u001b[39;49m\u001b[39m.\u001b[39;49m_conv_1x1(inputs)\n\u001b[1;32m    132\u001b[0m x \u001b[39m=\u001b[39m \u001b[39mself\u001b[39m\u001b[39m.\u001b[39m_dw_sep_conv_kxk(x)\n\u001b[1;32m    133\u001b[0m x \u001b[39m=\u001b[39m \u001b[39mself\u001b[39m\u001b[39m.\u001b[39m_batch_norm(x, is_train)\n",
      "File \u001b[0;32m~/git/segqnas/cnn/blocks.py:52\u001b[0m, in \u001b[0;36mBlock._conv_1x1\u001b[0;34m(self, inputs, name)\u001b[0m\n\u001b[1;32m     44\u001b[0m \u001b[39mdef\u001b[39;00m \u001b[39m_conv_1x1\u001b[39m(\u001b[39mself\u001b[39m, inputs, name\u001b[39m=\u001b[39m\u001b[39mNone\u001b[39;00m):\n\u001b[1;32m     45\u001b[0m     \u001b[39mreturn\u001b[39;00m K\u001b[39m.\u001b[39mlayers\u001b[39m.\u001b[39mConv2D(\n\u001b[1;32m     46\u001b[0m         filters\u001b[39m=\u001b[39m\u001b[39mself\u001b[39m\u001b[39m.\u001b[39mfilters,\n\u001b[1;32m     47\u001b[0m         kernel_size\u001b[39m=\u001b[39m\u001b[39m1\u001b[39m,\n\u001b[1;32m     48\u001b[0m         activation\u001b[39m=\u001b[39m\u001b[39mNone\u001b[39;00m,\n\u001b[1;32m     49\u001b[0m         padding\u001b[39m=\u001b[39m\u001b[39mself\u001b[39m\u001b[39m.\u001b[39mpadding,\n\u001b[1;32m     50\u001b[0m         data_format\u001b[39m=\u001b[39m\u001b[39mself\u001b[39m\u001b[39m.\u001b[39mdata_format,\n\u001b[1;32m     51\u001b[0m         kernel_initializer\u001b[39m=\u001b[39m\u001b[39mself\u001b[39m\u001b[39m.\u001b[39minitializer,\n\u001b[0;32m---> 52\u001b[0m         kernel_regularizer\u001b[39m=\u001b[39mregularizers\u001b[39m.\u001b[39mL1L2(l1\u001b[39m=\u001b[39m\u001b[39m1e-5\u001b[39m, l2\u001b[39m=\u001b[39m\u001b[39m1e-4\u001b[39m),\n\u001b[1;32m     53\u001b[0m         use_bias\u001b[39m=\u001b[39m\u001b[39mFalse\u001b[39;00m,\n\u001b[1;32m     54\u001b[0m         name\u001b[39m=\u001b[39mname,\n\u001b[1;32m     55\u001b[0m     )(inputs)\n",
      "\u001b[0;31mNameError\u001b[0m: name 'regularizers' is not defined"
     ]
    }
   ],
   "source": [
    "val_gen_dice_coef_list = []\n",
    "num_splits = 5\n",
    "num_initializations = 3\n",
    "epochs = 50\n",
    "\n",
    "for initialization in range(num_initializations):\n",
    "\n",
    "    for fold in range(num_splits):\n",
    "        train_patients, val_patients = get_split_deterministic(patients, fold=fold, num_splits=num_splits, random_state=initialization)\n",
    "\n",
    "        train_dataset = SpleenDataset(train_patients, only_non_empty_slices=True)\n",
    "        val_dataset = SpleenDataset(val_patients, only_non_empty_slices=True)\n",
    "\n",
    "        train_dataloader = SpleenDataloader(train_dataset, batch_size, train_augmentation)\n",
    "        val_dataloader = SpleenDataloader(val_dataset, batch_size, val_augmentation)\n",
    "\n",
    "        model = build_net((*patch_size, 1), num_classes, fn_dict, net_list)\n",
    "\n",
    "        checkpoint_filepath = '/tmp/checkpoint'\n",
    "        model_checkpoint_callback = tf.keras.callbacks.ModelCheckpoint(\n",
    "            filepath=checkpoint_filepath,\n",
    "            save_weights_only=True,\n",
    "            monitor='val_gen_dice_coef',\n",
    "            mode='max',\n",
    "            save_best_only=True)\n",
    "\n",
    "        history = model.fit(\n",
    "            train_dataloader,\n",
    "            validation_data=val_dataloader,\n",
    "            epochs=epochs,\n",
    "            verbose=1,\n",
    "            callbacks=[\n",
    "                model_checkpoint_callback\n",
    "            ]\n",
    "        )\n",
    "\n",
    "        model.load_weights(checkpoint_filepath)\n",
    "\n",
    "        for patient in val_patients:\n",
    "            patient_dataset = SpleenDataset([patient], only_non_empty_slices=True)\n",
    "            patient_dataloader = SpleenDataloader(patient_dataset, 1, val_augmentation, shuffle=False)\n",
    "            results = model.evaluate(patient_dataloader)\n",
    "            val_gen_dice_coef_patient = results[-1]\n",
    "            val_gen_dice_coef_list.append(val_gen_dice_coef_patient)\n",
    "\n",
    "        #plotting the dice coef results (accuracy) as a function of the number of epochs\n",
    "        plt.figure()\n",
    "        plt.plot(history.history['gen_dice_coef'])\n",
    "        plt.plot(history.history['val_gen_dice_coef'])\n",
    "        plt.title('Model: Generalized Dice Coeficient')\n",
    "        plt.ylabel('Dice Coef')\n",
    "        plt.xlabel('Epoch')\n",
    "        plt.legend(['Train', 'Test'], loc='upper left')\n",
    "        plt.show()\n",
    "\n",
    "        #plotting the dice coeff results (loss function) as a function of the number of epochs\n",
    "        plt.figure()\n",
    "        plt.plot(history.history['loss'])\n",
    "        plt.plot(history.history['val_loss'])\n",
    "        plt.title('Model: Generalized Dice Coeficient')\n",
    "        plt.ylabel('Dice Loss')\n",
    "        plt.xlabel('Epoch')\n",
    "        plt.legend(['Train', 'Test'], loc='upper right')\n",
    "        plt.show()\n",
    "\n",
    "mean_val_gen_dice_coef = (np.mean(val_gen_dice_coef_list))\n",
    "std_val_gen_dice_coef = (np.std(val_gen_dice_coef_list))\n",
    "\n",
    "print(f'Dice {mean_val_gen_dice_coef} +- {std_val_gen_dice_coef}')"
   ]
  },
  {
   "cell_type": "code",
   "execution_count": null,
   "metadata": {},
   "outputs": [],
   "source": [
    "#!tensorboard --logdir='./logs'"
   ]
  }
 ],
 "metadata": {
  "kernelspec": {
   "display_name": "Python 3.8.10 ('.venv': venv)",
   "language": "python",
   "name": "python3"
  },
  "language_info": {
   "codemirror_mode": {
    "name": "ipython",
    "version": 3
   },
   "file_extension": ".py",
   "mimetype": "text/x-python",
   "name": "python",
   "nbconvert_exporter": "python",
   "pygments_lexer": "ipython3",
   "version": "3.8.10"
  },
  "orig_nbformat": 4,
  "vscode": {
   "interpreter": {
    "hash": "15b591e0ce635b5b9c208f30fdc7e069506189097a1aa8b055086f0ec8562519"
   }
  }
 },
 "nbformat": 4,
 "nbformat_minor": 2
}
