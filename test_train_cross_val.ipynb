{
 "cells": [
  {
   "cell_type": "code",
   "execution_count": 1,
   "metadata": {},
   "outputs": [
    {
     "name": "stderr",
     "output_type": "stream",
     "text": [
      "2022-12-18 14:18:18.688055: I tensorflow/core/util/util.cc:169] oneDNN custom operations are on. You may see slightly different numerical results due to floating-point round-off errors from different computation orders. To turn them off, set the environment variable `TF_ENABLE_ONEDNN_OPTS=0`.\n"
     ]
    }
   ],
   "source": [
    "import matplotlib.pyplot as plt\n",
    "import numpy as np\n",
    "import tensorflow as tf\n",
    "import csv \n",
    "\n",
    "from cnn import model\n",
    "\n",
    "from cnn.input import (\n",
    "    get_list_of_patients,\n",
    "    get_training_augmentation,\n",
    "    get_validation_augmentation,\n",
    "    Dataset,\n",
    "    Dataloader,\n",
    "    get_split_deterministic,\n",
    ")"
   ]
  },
  {
   "cell_type": "code",
   "execution_count": 2,
   "metadata": {},
   "outputs": [],
   "source": [
    "train_params = {\n",
    "    \"data_path\": \"spleen_dataset/data/Task09_Spleen_preprocessed\",\n",
    "    \"num_classes\": 2,\n",
    "    \"num_channels\": 1,\n",
    "    \"skip_slices\": 0,\n",
    "    \"image_size\": 128,\n",
    "    \"batch_size\": 32,\n",
    "    \"epochs\": 100,\n",
    "    \"eval_epochs\": 20,\n",
    "    \"folds\": 5,\n",
    "    \"initializations\": 5,\n",
    "    \"stem_filters\": 16,\n",
    "    \"max_depth\": 4\n",
    "}\n",
    "\n",
    "# train_params = {\n",
    "#     \"data_path\": \"prostate_dataset/data/Task05_Prostate_preprocessed\",\n",
    "#     \"num_classes\": 3,\n",
    "#     \"num_channels\": 2,\n",
    "#     \"skip_slices\": 0,\n",
    "#     \"image_size\": 128,\n",
    "#     \"batch_size\": 32,\n",
    "#     \"epochs\": 100,\n",
    "#     \"eval_epochs\": 20,\n",
    "#     \"folds\": 5,\n",
    "#     \"initializations\": 5,\n",
    "#     \"stem_filters\": 16,\n",
    "#     \"max_depth\": 4\n",
    "# }\n",
    "\n",
    "unet_net_list = [\"vgg_n_3\",\"vgg_d_3\",\"vgg_d_3\",\"vgg_d_3\",\"vgg_d_3\",\"vgg_u_3\",\"vgg_u_3\",\"vgg_u_3\",\"vgg_u_3\",\"vgg_n_3\"]\n",
    "resunet_net_list = [\"res_n_3\",\"res_d_3\",\"res_d_3\",\"res_d_3\",\"res_d_3\",\"res_u_3\",\"res_u_3\",\"res_u_3\",\"res_u_3\",\"res_n_3\"]\n",
    "\n",
    "experiment_1_spleen_net_list = [\"vgg_n_3\",\"vgg_d_3\",\"vgg_u_3\",\"vgg_d_3\",\"vgg_d_3\",\"vgg_d_3\",\"vgg_d_3\",\"vgg_d_3\",\"vgg_n_3\",\"vgg_u_3\"]\n",
    "experiment_2_spleen_net_list = [\"den_n_3\",\"res_d_5\",\"vgg_d_5\",\"res_d_5\",\"inc_d_3\",\"res_u_3\",\"res_u_3\",\"res_u_5\",\"inc_u_3\",\"ide_n\"]\n",
    "experiment_3_spleen_net_list = [\"res_n_3\",\"den_d_3\",\"res_u_7\",\"inc_d_7\",\"vgg_d_3\",\"vgg_d_3\",\"res_d_5\",\"inc_d_7\",\"res_n_7\",\"den_u_3\"]\n",
    "experiment_4_spleen_net_list = [\"inc_n_3\",\"den_d_3\",\"den_d_3\",\"res_u_5\",\"res_n_3\",\"res_n_5\",\"res_d_5\",\"den_n_5\",\"den_n_5\",\"den_d_3\"]\n",
    "\n",
    "experiment_1_prostate_net_list = [\"vgg_u_3\",\"vgg_u_3\",\"vgg_d_3\",\"vgg_d_3\",\"vgg_d_3\",\"vgg_d_3\",\"vgg_d_3\",\"vgg_u_3\",\"vgg_u_3\",\"vgg_n_3\"]\n",
    "experiment_2_prostate_net_list = [\"ide_n\",\"vgg_d_3\",\"vgg_d_5\",\"inc_d_3\",\"den_d_3\",\"den_u_5\",\"vgg_u_5\",\"res_u_5\",\"inc_u_7\",\"vgg_n_7\"]\n",
    "experiment_3_prostate_net_list = [\"vgg_u_5\",\"inc_u_5\",\"vgg_d_7\",\"res_d_3\",\"inc_d_3\",\"ide_d\",\"den_d_7\",\"vgg_u_7\",\"res_u_5\",\"den_n_5\"]\n",
    "experiment_4_prostate_net_list = ['vgg_d_7',\"vgg_d_7\",\"inc_d_5\",\"den_d_5\",\"res_d_5\",\"vgg_u_7\",\"vgg_d_5\",\"vgg_n_5\",\"inc_n_5\",\"den_d_7\"]\n",
    "\n",
    "layer_dict = {\n",
    "    \"den_3\":   {                           \"block\": \"DenseBlock\",     \"kernel\": 3},\n",
    "    \"den_5\":   {                           \"block\": \"DenseBlock\",     \"kernel\": 5},\n",
    "    \"den_7\":   {                           \"block\": \"DenseBlock\",     \"kernel\": 7},\n",
    "    \"den_d_3\": {\"cell\": \"DownscalingCell\", \"block\": \"DenseBlock\",     \"kernel\": 3},\n",
    "    \"den_d_5\": {\"cell\": \"DownscalingCell\", \"block\": \"DenseBlock\",     \"kernel\": 5},\n",
    "    \"den_d_7\": {\"cell\": \"DownscalingCell\", \"block\": \"DenseBlock\",     \"kernel\": 7},\n",
    "    \"den_n_3\": {\"cell\": \"NonscalingCell\",  \"block\": \"DenseBlock\",     \"kernel\": 3},\n",
    "    \"den_n_5\": {\"cell\": \"NonscalingCell\",  \"block\": \"DenseBlock\",     \"kernel\": 5},\n",
    "    \"den_n_7\": {\"cell\": \"NonscalingCell\",  \"block\": \"DenseBlock\",     \"kernel\": 7},\n",
    "    \"den_u_3\": {\"cell\": \"UpscalingCell\",   \"block\": \"DenseBlock\",     \"kernel\": 3},\n",
    "    \"den_u_5\": {\"cell\": \"UpscalingCell\",   \"block\": \"DenseBlock\",     \"kernel\": 5},\n",
    "    \"den_u_7\": {\"cell\": \"UpscalingCell\",   \"block\": \"DenseBlock\",     \"kernel\": 7},\n",
    "    \"inc_3\":   {                           \"block\": \"InceptionBlock\", \"kernel\": 3},\n",
    "    \"inc_5\":   {                           \"block\": \"InceptionBlock\", \"kernel\": 5},\n",
    "    \"inc_7\":   {                           \"block\": \"InceptionBlock\", \"kernel\": 7},\n",
    "    \"inc_d_3\": {\"cell\": \"DownscalingCell\", \"block\": \"InceptionBlock\", \"kernel\": 3},\n",
    "    \"inc_d_5\": {\"cell\": \"DownscalingCell\", \"block\": \"InceptionBlock\", \"kernel\": 5},\n",
    "    \"inc_d_7\": {\"cell\": \"DownscalingCell\", \"block\": \"InceptionBlock\", \"kernel\": 7},\n",
    "    \"inc_n_3\": {\"cell\": \"NonscalingCell\",  \"block\": \"InceptionBlock\", \"kernel\": 3},\n",
    "    \"inc_n_5\": {\"cell\": \"NonscalingCell\",  \"block\": \"InceptionBlock\", \"kernel\": 5},\n",
    "    \"inc_n_7\": {\"cell\": \"NonscalingCell\",  \"block\": \"InceptionBlock\", \"kernel\": 7},\n",
    "    \"inc_u_3\": {\"cell\": \"UpscalingCell\",   \"block\": \"InceptionBlock\", \"kernel\": 3},\n",
    "    \"inc_u_5\": {\"cell\": \"UpscalingCell\",   \"block\": \"InceptionBlock\", \"kernel\": 5},\n",
    "    \"inc_u_7\": {\"cell\": \"UpscalingCell\",   \"block\": \"InceptionBlock\", \"kernel\": 7},\n",
    "    \"ide\":     {                           \"block\": \"IdentityBlock\"              },\n",
    "    \"ide_d\":   {\"cell\": \"DownscalingCell\", \"block\": \"IdentityBlock\"              },\n",
    "    \"ide_n\":   {\"cell\": \"NonscalingCell\",  \"block\": \"IdentityBlock\"              },\n",
    "    \"ide_u\":   {\"cell\": \"UpscalingCell\",   \"block\": \"IdentityBlock\"              },\n",
    "    \"res_3\":   {                           \"block\": \"ResNetBlock\",    \"kernel\": 3},\n",
    "    \"res_5\":   {                           \"block\": \"ResNetBlock\",    \"kernel\": 5},\n",
    "    \"res_7\":   {                           \"block\": \"ResNetBlock\",    \"kernel\": 7},\n",
    "    \"res_d_3\": {\"cell\": \"DownscalingCell\", \"block\": \"ResNetBlock\",    \"kernel\": 3},\n",
    "    \"res_d_5\": {\"cell\": \"DownscalingCell\", \"block\": \"ResNetBlock\",    \"kernel\": 5},\n",
    "    \"res_d_7\": {\"cell\": \"DownscalingCell\", \"block\": \"ResNetBlock\",    \"kernel\": 7},\n",
    "    \"res_n_3\": {\"cell\": \"NonscalingCell\",  \"block\": \"ResNetBlock\",    \"kernel\": 3},\n",
    "    \"res_n_5\": {\"cell\": \"NonscalingCell\",  \"block\": \"ResNetBlock\",    \"kernel\": 5},\n",
    "    \"res_n_7\": {\"cell\": \"NonscalingCell\",  \"block\": \"ResNetBlock\",    \"kernel\": 7},\n",
    "    \"res_u_3\": {\"cell\": \"UpscalingCell\",   \"block\": \"ResNetBlock\",    \"kernel\": 3},\n",
    "    \"res_u_5\": {\"cell\": \"UpscalingCell\",   \"block\": \"ResNetBlock\",    \"kernel\": 5},\n",
    "    \"res_u_7\": {\"cell\": \"UpscalingCell\",   \"block\": \"ResNetBlock\",    \"kernel\": 7},\n",
    "    \"vgg_3\":   {                           \"block\": \"VGGBlock\",       \"kernel\": 3},\n",
    "    \"vgg_5\":   {                           \"block\": \"VGGBlock\",       \"kernel\": 5},\n",
    "    \"vgg_7\":   {                           \"block\": \"VGGBlock\",       \"kernel\": 7},\n",
    "    \"vgg_d_3\": {\"cell\": \"DownscalingCell\", \"block\": \"VGGBlock\",       \"kernel\": 3},\n",
    "    \"vgg_d_5\": {\"cell\": \"DownscalingCell\", \"block\": \"VGGBlock\",       \"kernel\": 5},\n",
    "    \"vgg_d_7\": {\"cell\": \"DownscalingCell\", \"block\": \"VGGBlock\",       \"kernel\": 7},\n",
    "    \"vgg_n_3\": {\"cell\": \"NonscalingCell\",  \"block\": \"VGGBlock\",       \"kernel\": 3},\n",
    "    \"vgg_n_5\": {\"cell\": \"NonscalingCell\",  \"block\": \"VGGBlock\",       \"kernel\": 5},\n",
    "    \"vgg_n_7\": {\"cell\": \"NonscalingCell\",  \"block\": \"VGGBlock\",       \"kernel\": 7},\n",
    "    \"vgg_u_3\": {\"cell\": \"UpscalingCell\",   \"block\": \"VGGBlock\",       \"kernel\": 3},\n",
    "    \"vgg_u_5\": {\"cell\": \"UpscalingCell\",   \"block\": \"VGGBlock\",       \"kernel\": 5},\n",
    "    \"vgg_u_7\": {\"cell\": \"UpscalingCell\",   \"block\": \"VGGBlock\",       \"kernel\": 7},\n",
    "}"
   ]
  },
  {
   "cell_type": "code",
   "execution_count": 3,
   "metadata": {},
   "outputs": [],
   "source": [
    "def cross_val_train(experiment_name, train_params, layer_dict, net_list, cell_list=None):\n",
    "\n",
    "    data_path = train_params[\"data_path\"]\n",
    "    num_classes = train_params[\"num_classes\"]\n",
    "    num_channels = train_params[\"num_channels\"]\n",
    "    skip_slices = train_params[\"skip_slices\"]\n",
    "    image_size = train_params[\"image_size\"]\n",
    "    batch_size = train_params[\"batch_size\"]\n",
    "    epochs = train_params[\"epochs\"]\n",
    "    eval_epochs = train_params[\"eval_epochs\"]\n",
    "    num_folds = train_params[\"folds\"]\n",
    "    num_initializations = train_params[\"initializations\"]\n",
    "    stem_filters = train_params[\"stem_filters\"]\n",
    "    max_depth = train_params[\"max_depth\"]\n",
    "\n",
    "    patch_size = (image_size, image_size, num_channels)\n",
    "\n",
    "    patients = get_list_of_patients(data_path)\n",
    "    train_augmentation =get_training_augmentation(patch_size)\n",
    "    val_augmentation = get_validation_augmentation(patch_size)\n",
    "\n",
    "    val_gen_dice_coef_list = []\n",
    "\n",
    "    for initialization in range(num_initializations):\n",
    "        for fold in range(num_folds):\n",
    "\n",
    "            net = model.build_net(\n",
    "                input_shape=patch_size,\n",
    "                num_classes=num_classes,\n",
    "                stem_filters=stem_filters,\n",
    "                max_depth=max_depth,\n",
    "                layer_dict=layer_dict,\n",
    "                net_list=net_list,\n",
    "                cell_list=cell_list,\n",
    "            )\n",
    "\n",
    "            train_patients, val_patients = get_split_deterministic(\n",
    "                patients,\n",
    "                fold=fold,\n",
    "                num_splits=num_folds,\n",
    "                random_state=initialization,\n",
    "            )\n",
    "\n",
    "            train_dataset = Dataset(\n",
    "                data_path=data_path,\n",
    "                patients=train_patients,\n",
    "                only_non_empty_slices=True,\n",
    "            )\n",
    "\n",
    "            val_dataset = Dataset(\n",
    "                data_path=data_path,\n",
    "                patients=val_patients,\n",
    "                only_non_empty_slices=True,\n",
    "            )\n",
    "\n",
    "            train_dataloader = Dataloader(\n",
    "                dataset=train_dataset,\n",
    "                batch_size=batch_size,\n",
    "                skip_slices=skip_slices,\n",
    "                augmentation=train_augmentation,\n",
    "                shuffle=True,\n",
    "            )\n",
    "\n",
    "            val_dataloader = Dataloader(\n",
    "                dataset=val_dataset,\n",
    "                batch_size=batch_size,\n",
    "                skip_slices=0,\n",
    "                augmentation=val_augmentation,\n",
    "                shuffle=False,\n",
    "            )\n",
    "            \n",
    "            def learning_rate_fn(epoch):\n",
    "                initial_learning_rate = 1e-3\n",
    "                end_learning_rate = 1e-4\n",
    "                power = 0.9\n",
    "                return (\n",
    "                    (initial_learning_rate - end_learning_rate)\n",
    "                    * (1 - epoch / float(epochs)) ** (power)\n",
    "                ) + end_learning_rate\n",
    "\n",
    "            lr_callback = tf.keras.callbacks.LearningRateScheduler(\n",
    "                learning_rate_fn, verbose=False\n",
    "            )\n",
    "\n",
    "            history = net.fit(\n",
    "                train_dataloader,\n",
    "                validation_data=val_dataloader,\n",
    "                epochs=epochs,\n",
    "                verbose=0,\n",
    "                callbacks=[lr_callback],\n",
    "            )\n",
    "\n",
    "            history_eval_epochs = history.history[\"val_gen_dice_coef\"][-eval_epochs:]\n",
    "\n",
    "            val_gen_dice_coef_list.extend(history_eval_epochs)\n",
    "\n",
    "            mean_dsc = np.mean(history_eval_epochs)\n",
    "            std_dsc = np.std(history_eval_epochs)\n",
    "            print(\n",
    "                f\"{fold + initialization*num_folds + 1}/{num_folds*num_initializations}: {mean_dsc} +- {std_dsc}\"\n",
    "            )\n",
    "\n",
    "            # plt.figure()\n",
    "            # plt.plot(history.history[\"gen_dice_coef\"])\n",
    "            # plt.plot(history.history[\"val_gen_dice_coef\"])\n",
    "            # plt.title(\"DSC\")\n",
    "            # plt.ylabel(\"DSC\")\n",
    "            # plt.xlabel(\"Epoch\")\n",
    "            # plt.legend([\"Train\", \"Test\"], loc=\"upper left\")\n",
    "            # plt.show()\n",
    "\n",
    "    mean_dsc = np.mean(val_gen_dice_coef_list)\n",
    "    std_dsc = np.std(val_gen_dice_coef_list)\n",
    "\n",
    "    with open(f'{experiment_name}.csv', 'w') as f:\n",
    "        csv_writer = csv.writer(f)\n",
    "        csv_writer.writerow(val_gen_dice_coef_list)\n",
    "\n",
    "    return mean_dsc, std_dsc"
   ]
  },
  {
   "cell_type": "code",
   "execution_count": 4,
   "metadata": {},
   "outputs": [
    {
     "name": "stderr",
     "output_type": "stream",
     "text": [
      "2022-12-18 14:18:20.867831: I tensorflow/core/platform/cpu_feature_guard.cc:193] This TensorFlow binary is optimized with oneAPI Deep Neural Network Library (oneDNN) to use the following CPU instructions in performance-critical operations:  SSE4.1 SSE4.2 AVX AVX2 AVX512F AVX512_VNNI FMA\n",
      "To enable them in other operations, rebuild TensorFlow with the appropriate compiler flags.\n",
      "2022-12-18 14:18:22.583519: I tensorflow/core/common_runtime/gpu/gpu_device.cc:1532] Created device /job:localhost/replica:0/task:0/device:GPU:0 with 22122 MB memory:  -> device: 0, name: NVIDIA A30, pci bus id: 0000:3b:00.0, compute capability: 8.0\n",
      "2022-12-18 14:18:22.585277: I tensorflow/core/common_runtime/gpu/gpu_device.cc:1532] Created device /job:localhost/replica:0/task:0/device:GPU:1 with 1170 MB memory:  -> device: 1, name: NVIDIA A30, pci bus id: 0000:af:00.0, compute capability: 8.0\n",
      "2022-12-18 14:18:22.586960: I tensorflow/core/common_runtime/gpu/gpu_device.cc:1532] Created device /job:localhost/replica:0/task:0/device:GPU:2 with 22122 MB memory:  -> device: 2, name: NVIDIA A30, pci bus id: 0000:d8:00.0, compute capability: 8.0\n",
      "2022-12-18 14:18:44.987524: I tensorflow/stream_executor/cuda/cuda_dnn.cc:384] Loaded cuDNN version 8401\n"
     ]
    },
    {
     "name": "stdout",
     "output_type": "stream",
     "text": [
      "1/25: 0.9590796172618866 +- 0.0017484044537968695\n",
      "2/25: 0.9418266177177429 +- 0.004545904136302152\n",
      "3/25: 0.9343091249465942 +- 0.009001829737679995\n",
      "4/25: 0.9528744488954544 +- 0.000680469969283874\n",
      "5/25: 0.9514697462320327 +- 0.0012796527482774158\n",
      "6/25: 0.957508385181427 +- 0.0018557272996450004\n",
      "7/25: 0.9591067761182785 +- 0.0017399494241993182\n",
      "8/25: 0.939325925707817 +- 0.002497109703725119\n",
      "9/25: 0.9445828586816788 +- 0.0020870417191923897\n",
      "10/25: 0.9495691448450089 +- 0.002440497241147055\n",
      "11/25: 0.9598509579896927 +- 0.002294107952322626\n",
      "12/25: 0.9495642751455307 +- 0.003317877646237473\n",
      "13/25: 0.9455975115299224 +- 0.0028008467795169133\n",
      "14/25: 0.9511992812156678 +- 0.0017041212961312407\n",
      "15/25: 0.966061481833458 +- 0.0010702267408615044\n",
      "16/25: 0.9488098233938217 +- 0.0009402186526117369\n",
      "17/25: 0.9495856583118438 +- 0.002323914978746634\n",
      "18/25: 0.9635136544704437 +- 0.0007691265930208228\n",
      "19/25: 0.9516364812850953 +- 0.002033662914306704\n",
      "20/25: 0.9544284731149674 +- 0.0008218248078323849\n",
      "21/25: 0.9588559895753861 +- 0.0021019340840847094\n",
      "22/25: 0.952130776643753 +- 0.0012559247017806285\n",
      "23/25: 0.9514819741249084 +- 0.0032111149276168598\n",
      "24/25: 0.9349494725465775 +- 0.004282451191197738\n",
      "25/25: 0.9655344665050507 +- 0.0007761660172030818\n"
     ]
    },
    {
     "data": {
      "text/plain": [
       "(0.9517141169309616, 0.008844633555743473)"
      ]
     },
     "execution_count": 4,
     "metadata": {},
     "output_type": "execute_result"
    }
   ],
   "source": [
    "cross_val_train(experiment_name='unet_spleen_baseline', train_params=train_params, layer_dict=layer_dict, net_list=unet_net_list)"
   ]
  },
  {
   "cell_type": "code",
   "execution_count": 5,
   "metadata": {},
   "outputs": [
    {
     "name": "stdout",
     "output_type": "stream",
     "text": [
      "1/25: 0.9580796629190445 +- 0.002556151374757031\n",
      "2/25: 0.958809107542038 +- 0.0010651437957863103\n",
      "3/25: 0.9461138695478439 +- 0.0033431075564829844\n",
      "4/25: 0.953932011127472 +- 0.002258761090500036\n",
      "5/25: 0.9557862192392349 +- 0.0008229310022145897\n",
      "6/25: 0.956477802991867 +- 0.0018993791802995688\n",
      "7/25: 0.9376673251390457 +- 0.006294451194151809\n",
      "8/25: 0.9333404719829559 +- 0.004581879442697995\n",
      "9/25: 0.9403485596179962 +- 0.007442805387409854\n",
      "10/25: 0.9511627197265625 +- 0.0016080574001112226\n",
      "11/25: 0.9563082933425904 +- 0.0014407544461849204\n",
      "12/25: 0.9524090498685837 +- 0.0014889968428627224\n",
      "13/25: 0.9568515390157699 +- 0.001049255336899913\n",
      "14/25: 0.9570066332817078 +- 0.0012430766911020975\n",
      "15/25: 0.9591039776802063 +- 0.0030753178065585497\n",
      "16/25: 0.9562106937170028 +- 0.0011456051887867712\n",
      "17/25: 0.9560454607009887 +- 0.0008607421423792429\n",
      "18/25: 0.9580247849225998 +- 0.0017193582653436002\n",
      "19/25: 0.9498190313577652 +- 0.0029715462955811284\n",
      "20/25: 0.9598807632923126 +- 0.00044616700531169496\n",
      "21/25: 0.9556127578020096 +- 0.0021972064078730996\n",
      "22/25: 0.9571444600820541 +- 0.0016133455482500616\n",
      "23/25: 0.9489762485027313 +- 0.003511648404258518\n",
      "24/25: 0.9434810996055603 +- 0.0015311558219290946\n",
      "25/25: 0.9642104208469391 +- 0.0013930698689637257\n"
     ]
    },
    {
     "data": {
      "text/plain": [
       "(0.9529121185541153, 0.007879200235252943)"
      ]
     },
     "execution_count": 5,
     "metadata": {},
     "output_type": "execute_result"
    }
   ],
   "source": [
    "cross_val_train(experiment_name='resunet_spleen_baseline', train_params=train_params, layer_dict=layer_dict, net_list=resunet_net_list)"
   ]
  },
  {
   "cell_type": "code",
   "execution_count": 6,
   "metadata": {},
   "outputs": [
    {
     "name": "stdout",
     "output_type": "stream",
     "text": [
      "1/25: 0.9541149467229844 +- 0.002503541616601207\n",
      "2/25: 0.9509168207645416 +- 0.0040296094526084065\n",
      "3/25: 0.946830439567566 +- 0.0035015486521456566\n",
      "4/25: 0.95502310693264 +- 0.0013298342000699992\n",
      "5/25: 0.9577293902635574 +- 0.0009652850941584457\n",
      "6/25: 0.9572775781154632 +- 0.004682834595339301\n",
      "7/25: 0.9621615737676621 +- 0.0012445919428731242\n",
      "8/25: 0.9467104107141495 +- 0.003050951899862184\n",
      "9/25: 0.956660145521164 +- 0.003213890813749987\n",
      "10/25: 0.9545305281877517 +- 0.0007363977080063361\n",
      "11/25: 0.9505843311548233 +- 0.0027965248271467303\n",
      "12/25: 0.9572696119546891 +- 0.0018795136675005205\n",
      "13/25: 0.9454546719789505 +- 0.004517236042355438\n",
      "14/25: 0.9480833083391189 +- 0.0016336932109292906\n",
      "15/25: 0.9679292768239975 +- 0.0008336887345192551\n",
      "16/25: 0.9487917572259903 +- 0.0006282828417036524\n",
      "17/25: 0.9533411115407944 +- 0.0011391023288820753\n",
      "18/25: 0.9606295198202133 +- 0.0016101682593299073\n",
      "19/25: 0.9512471139431 +- 0.001468219155822834\n",
      "20/25: 0.9590654999017716 +- 0.001514747507445293\n",
      "21/25: 0.9529201060533523 +- 0.0018199757767645808\n",
      "22/25: 0.9583237797021866 +- 0.0007743345171445112\n",
      "23/25: 0.9526996910572052 +- 0.0010261078762646082\n",
      "24/25: 0.942761555314064 +- 0.0037583610766207124\n",
      "25/25: 0.9608624756336213 +- 0.0008665994312811\n"
     ]
    },
    {
     "data": {
      "text/plain": [
       "(0.9540767500400543, 0.006269004425904412)"
      ]
     },
     "execution_count": 6,
     "metadata": {},
     "output_type": "execute_result"
    }
   ],
   "source": [
    "cross_val_train(experiment_name='experiment_1_spleen', train_params=train_params, layer_dict=layer_dict, net_list=experiment_1_spleen_net_list)"
   ]
  },
  {
   "cell_type": "code",
   "execution_count": 7,
   "metadata": {},
   "outputs": [
    {
     "name": "stdout",
     "output_type": "stream",
     "text": [
      "1/25: 0.9586336076259613 +- 0.0015296674651668514\n",
      "2/25: 0.9521344661712646 +- 0.0018799378507229289\n",
      "3/25: 0.9431748479604721 +- 0.0023584449777548128\n",
      "4/25: 0.9533429741859436 +- 0.0012945018276879505\n",
      "5/25: 0.9552649736404419 +- 0.001315313309668335\n",
      "6/25: 0.9613033324480057 +- 0.0006681284281454982\n",
      "7/25: 0.9616694778203965 +- 0.0007620260650738953\n",
      "8/25: 0.9300987869501114 +- 0.0035955751018805883\n",
      "9/25: 0.9544148027896882 +- 0.002155538950400743\n",
      "10/25: 0.9611081629991531 +- 0.0011751988898796853\n",
      "11/25: 0.9570348113775253 +- 0.0015405312508649839\n",
      "12/25: 0.9532516121864318 +- 0.0020191445752437546\n",
      "13/25: 0.9537991464138031 +- 0.0021480603303381174\n",
      "14/25: 0.9511320471763611 +- 0.0013085587107267839\n",
      "15/25: 0.9684049993753433 +- 0.0006929646537940563\n",
      "16/25: 0.9564472198486328 +- 0.0009185129917181294\n",
      "17/25: 0.956426602602005 +- 0.0009138430142291659\n",
      "18/25: 0.964323765039444 +- 0.0008415489987128799\n",
      "19/25: 0.9470460265874863 +- 0.003731269459559279\n",
      "20/25: 0.9621238321065902 +- 0.0011716965210950146\n",
      "21/25: 0.9562993705272674 +- 0.0016415677225726283\n",
      "22/25: 0.959776085615158 +- 0.001119086113794608\n",
      "23/25: 0.9547029435634613 +- 0.0020143877866258216\n",
      "24/25: 0.9500745058059692 +- 0.0016343453385252828\n",
      "25/25: 0.9643247455358506 +- 0.0010404015279673426\n"
     ]
    },
    {
     "data": {
      "text/plain": [
       "(0.9554525258541107, 0.007804035073413699)"
      ]
     },
     "execution_count": 7,
     "metadata": {},
     "output_type": "execute_result"
    }
   ],
   "source": [
    "cross_val_train(experiment_name='experiment_2_spleen', train_params=train_params, layer_dict=layer_dict, net_list=experiment_2_spleen_net_list)"
   ]
  },
  {
   "cell_type": "code",
   "execution_count": 8,
   "metadata": {},
   "outputs": [
    {
     "name": "stdout",
     "output_type": "stream",
     "text": [
      "1/25: 0.9582314223051072 +- 0.0010080013248845935\n",
      "2/25: 0.9527800440788269 +- 0.004334426235167483\n",
      "3/25: 0.9437697112560273 +- 0.0026870757314198203\n",
      "4/25: 0.9530692040920258 +- 0.0016631264125441256\n",
      "5/25: 0.9583071231842041 +- 0.0012056526620755138\n",
      "6/25: 0.9605179369449616 +- 0.0012967398940384874\n",
      "7/25: 0.9600597769021988 +- 0.001064443932078062\n",
      "8/25: 0.9464783042669296 +- 0.002391589025631526\n",
      "9/25: 0.9567580074071884 +- 0.0010827843304920576\n",
      "10/25: 0.9581779718399048 +- 0.000774247823638988\n",
      "11/25: 0.9486613184213638 +- 0.0018207323317174658\n",
      "12/25: 0.9657627820968628 +- 0.0013346658435434595\n",
      "13/25: 0.9553629428148269 +- 0.0011079460013464757\n",
      "14/25: 0.9466056287288666 +- 0.0008927417258934188\n",
      "15/25: 0.9686016619205475 +- 0.0009300531433592611\n",
      "16/25: 0.9553572863340378 +- 0.0008422526772411041\n",
      "17/25: 0.9550779730081558 +- 0.0010268978392425831\n",
      "18/25: 0.9626703441143036 +- 0.0007131460939318709\n",
      "19/25: 0.9519388765096665 +- 0.0013352564756483698\n",
      "20/25: 0.9632912576198578 +- 0.00095087190864476\n",
      "21/25: 0.9581213653087616 +- 0.0011731411872776191\n",
      "22/25: 0.9614094346761703 +- 0.0007710821279533028\n",
      "23/25: 0.9556539088487626 +- 0.0015736736724957995\n",
      "24/25: 0.9460847437381744 +- 0.0062623689843502505\n",
      "25/25: 0.9655122399330139 +- 0.0006368420179893485\n"
     ]
    },
    {
     "data": {
      "text/plain": [
       "(0.9563304506540299, 0.006759491394000532)"
      ]
     },
     "execution_count": 8,
     "metadata": {},
     "output_type": "execute_result"
    }
   ],
   "source": [
    "cross_val_train(experiment_name='experiment_3_spleen', train_params=train_params, layer_dict=layer_dict, net_list=experiment_3_spleen_net_list)"
   ]
  },
  {
   "cell_type": "code",
   "execution_count": 9,
   "metadata": {},
   "outputs": [
    {
     "name": "stdout",
     "output_type": "stream",
     "text": [
      "1/25: 0.9602617084980011 +- 0.002107420213527357\n",
      "2/25: 0.9533402383327484 +- 0.0030326379955598667\n",
      "3/25: 0.9286989241838455 +- 0.005967437542173941\n",
      "4/25: 0.9534731864929199 +- 0.0014622114444631195\n",
      "5/25: 0.9534440219402314 +- 0.0006621717528118438\n",
      "6/25: 0.9625387042760849 +- 0.0019248732461814757\n",
      "7/25: 0.9626891642808915 +- 0.0010700523109551216\n",
      "8/25: 0.9413607448339463 +- 0.002647161341669799\n",
      "9/25: 0.954887393116951 +- 0.0011459818421624842\n",
      "10/25: 0.956618195772171 +- 0.001591457599488605\n",
      "11/25: 0.9501158893108368 +- 0.00282410553619478\n",
      "12/25: 0.9634248316287994 +- 0.0015166314424155708\n",
      "13/25: 0.950113770365715 +- 0.005070848900737652\n",
      "14/25: 0.9611994832754135 +- 0.0014200916450315673\n",
      "15/25: 0.9608319103717804 +- 0.005174864871226907\n",
      "16/25: 0.9583731442689896 +- 0.0015916039670073004\n",
      "17/25: 0.9577411562204361 +- 0.0006961160930244055\n",
      "18/25: 0.9660636603832244 +- 0.000916739024797402\n",
      "19/25: 0.9540601372718811 +- 0.0009760237267881314\n",
      "20/25: 0.9593404948711395 +- 0.0014869653100241735\n",
      "21/25: 0.9619294703006744 +- 0.0009634316831555537\n",
      "22/25: 0.9626042246818542 +- 0.0011653907475121905\n",
      "23/25: 0.9564593732357025 +- 0.001575307806863611\n",
      "24/25: 0.9411758154630661 +- 0.0037097693886796405\n",
      "25/25: 0.9637041807174682 +- 0.0007984271497857391\n"
     ]
    },
    {
     "data": {
      "text/plain": [
       "(0.9557779929637908, 0.008722250182194234)"
      ]
     },
     "execution_count": 9,
     "metadata": {},
     "output_type": "execute_result"
    }
   ],
   "source": [
    "cross_val_train(experiment_name='experiment_4_spleen', train_params=train_params, layer_dict=layer_dict, net_list=experiment_4_spleen_net_list)"
   ]
  },
  {
   "cell_type": "code",
   "execution_count": 10,
   "metadata": {},
   "outputs": [],
   "source": [
    "# cross_val_train(experiment_name='experiment_1_prostate', train_params=train_params, layer_dict=layer_dict, net_list=experiment_1_prostate_net_list)"
   ]
  },
  {
   "cell_type": "code",
   "execution_count": 11,
   "metadata": {},
   "outputs": [],
   "source": [
    "# cross_val_train(experiment_name='experiment_2_prostate', train_params=train_params, layer_dict=layer_dict, net_list=experiment_2_prostate_net_list)"
   ]
  },
  {
   "cell_type": "code",
   "execution_count": 12,
   "metadata": {},
   "outputs": [],
   "source": [
    "# cross_val_train(experiment_name='experiment_3_prostate', train_params=train_params, layer_dict=layer_dict, net_list=experiment_3_prostate_net_list)"
   ]
  },
  {
   "cell_type": "code",
   "execution_count": 13,
   "metadata": {},
   "outputs": [],
   "source": [
    "# cross_val_train(experiment_name='experiment_4_prostate', train_params=train_params, layer_dict=layer_dict, net_list=experiment_4_prostate_net_list)"
   ]
  }
 ],
 "metadata": {
  "kernelspec": {
   "display_name": "Python 3.8.13 ('qnas')",
   "language": "python",
   "name": "python3"
  },
  "language_info": {
   "codemirror_mode": {
    "name": "ipython",
    "version": 3
   },
   "file_extension": ".py",
   "mimetype": "text/x-python",
   "name": "python",
   "nbconvert_exporter": "python",
   "pygments_lexer": "ipython3",
   "version": "3.8.13"
  },
  "orig_nbformat": 4,
  "vscode": {
   "interpreter": {
    "hash": "e8820744234b703bd445442e6ebc9db61d869d1d6be3e6a35ae5b30db245b9f8"
   }
  }
 },
 "nbformat": 4,
 "nbformat_minor": 2
}
