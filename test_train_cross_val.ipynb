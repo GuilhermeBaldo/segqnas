{
 "cells": [
  {
   "cell_type": "code",
   "execution_count": 1,
   "metadata": {},
   "outputs": [
    {
     "name": "stderr",
     "output_type": "stream",
     "text": [
      "2022-10-09 22:20:15.590988: I tensorflow/stream_executor/cuda/cuda_gpu_executor.cc:975] successful NUMA node read from SysFS had negative value (-1), but there must be at least one NUMA node, so returning NUMA node zero\n",
      "2022-10-09 22:20:15.617470: I tensorflow/stream_executor/cuda/cuda_gpu_executor.cc:975] successful NUMA node read from SysFS had negative value (-1), but there must be at least one NUMA node, so returning NUMA node zero\n",
      "2022-10-09 22:20:15.617616: I tensorflow/stream_executor/cuda/cuda_gpu_executor.cc:975] successful NUMA node read from SysFS had negative value (-1), but there must be at least one NUMA node, so returning NUMA node zero\n"
     ]
    }
   ],
   "source": [
    "from cnn.model import build_net\n",
    "\n",
    "from spleen_dataset.dataloader import SpleenDataloader, SpleenDataset, get_training_augmentation, get_validation_augmentation\n",
    "from spleen_dataset.config import dataset_folder\n",
    "from spleen_dataset.utils import get_split_deterministic, get_list_of_patients\n",
    "\n",
    "from tensorflow.keras.callbacks import ModelCheckpoint, ReduceLROnPlateau, EarlyStopping, TensorBoard\n",
    "import matplotlib.pyplot as plt\n",
    "import random\n",
    "import numpy as np\n",
    "\n",
    "import tensorflow as tf\n",
    "gpus = tf.config.experimental.list_physical_devices('GPU')\n",
    "if gpus:\n",
    "  try:\n",
    "    tf.config.experimental.set_memory_growth(gpus[0], False)\n",
    "  except RuntimeError as e:\n",
    "    print(e)"
   ]
  },
  {
   "cell_type": "code",
   "execution_count": 2,
   "metadata": {},
   "outputs": [],
   "source": [
    "patients = get_list_of_patients(dataset_folder)"
   ]
  },
  {
   "cell_type": "code",
   "execution_count": 3,
   "metadata": {},
   "outputs": [
    {
     "name": "stderr",
     "output_type": "stream",
     "text": [
      "/home/guilherme/git/segqnas/.venv/lib/python3.8/site-packages/albumentations/augmentations/transforms.py:1613: FutureWarning: This class has been deprecated. Please use RandomBrightnessContrast\n",
      "  warnings.warn(\n"
     ]
    }
   ],
   "source": [
    "patch_size = (128, 128)\n",
    "batch_size = 8 \n",
    "num_classes = 2\n",
    "train_augmentation = get_training_augmentation(patch_size)\n",
    "val_augmentation = get_validation_augmentation(patch_size)\n",
    "\n",
    "net_list = [\n",
    "    'vgg_d_3', \n",
    "    'vgg_d_3',\n",
    "    'vgg_d_3',\n",
    "    'vgg_d_3',\n",
    "    'vgg_d_3',\n",
    "    'vgg_d_3',\n",
    "    'vgg_d_3',\n",
    "    'vgg_d_3',\n",
    "    'vgg_d_3',\n",
    "    'vgg_d_3',\n",
    "    'vgg_d_3',\n",
    "    'vgg_d_3'\n",
    "]\n",
    "\n",
    "fn_dict =  {\n",
    "    'den_d_3': {'cell': 'DownscalingCell', 'block': 'DenseBlock',     'kernel': 3},\n",
    "    'den_d_5': {'cell': 'DownscalingCell', 'block': 'DenseBlock',     'kernel': 5},\n",
    "    'den_d_7': {'cell': 'DownscalingCell', 'block': 'DenseBlock',     'kernel': 7},\n",
    "    'den_n_3': {'cell': 'NonscalingCell',  'block': 'DenseBlock',     'kernel': 3},\n",
    "    'den_n_5': {'cell': 'NonscalingCell',  'block': 'DenseBlock',     'kernel': 5},\n",
    "    'den_n_7': {'cell': 'NonscalingCell',  'block': 'DenseBlock',     'kernel': 7},\n",
    "    'den_u_3': {'cell': 'UpscalingCell',   'block': 'DenseBlock',     'kernel': 3},\n",
    "    'den_u_5': {'cell': 'UpscalingCell',   'block': 'DenseBlock',     'kernel': 5},\n",
    "    'den_u_7': {'cell': 'UpscalingCell',   'block': 'DenseBlock',     'kernel': 7},\n",
    "    'inc_d_3': {'cell': 'DownscalingCell', 'block': 'InceptionBlock', 'kernel': 3},\n",
    "    'inc_d_5': {'cell': 'DownscalingCell', 'block': 'InceptionBlock', 'kernel': 5},\n",
    "    'inc_d_7': {'cell': 'DownscalingCell', 'block': 'InceptionBlock', 'kernel': 7},\n",
    "    'inc_n_3': {'cell': 'NonscalingCell',  'block': 'InceptionBlock', 'kernel': 3},\n",
    "    'inc_n_5': {'cell': 'NonscalingCell',  'block': 'InceptionBlock', 'kernel': 5},\n",
    "    'inc_n_7': {'cell': 'NonscalingCell',  'block': 'InceptionBlock', 'kernel': 7},\n",
    "    'inc_u_3': {'cell': 'UpscalingCell',   'block': 'InceptionBlock', 'kernel': 3},\n",
    "    'inc_u_5': {'cell': 'UpscalingCell',   'block': 'InceptionBlock', 'kernel': 5},\n",
    "    'inc_u_7': {'cell': 'UpscalingCell',   'block': 'InceptionBlock', 'kernel': 7},\n",
    "    'ind_d':   {'cell': 'DownscalingCell', 'block': 'IdentityBlock',             },\n",
    "    'ind_n':   {'cell': 'NonscalingCell',  'block': 'IdentityBlock',             },   \n",
    "    'ind_u':   {'cell': 'UpscalingCell',   'block': 'IdentityBlock',             },\n",
    "    'res_d_3': {'cell': 'DownscalingCell', 'block': 'VGGBlock',       'kernel': 3},\n",
    "    'res_d_5': {'cell': 'DownscalingCell', 'block': 'VGGBlock',       'kernel': 5},\n",
    "    'res_d_7': {'cell': 'DownscalingCell', 'block': 'VGGBlock',       'kernel': 7},\n",
    "    'res_n_3': {'cell': 'NonscalingCell',  'block': 'VGGBlock',       'kernel': 3},\n",
    "    'res_n_5': {'cell': 'NonscalingCell',  'block': 'VGGBlock',       'kernel': 5},\n",
    "    'res_n_7': {'cell': 'NonscalingCell',  'block': 'VGGBlock',       'kernel': 7},\n",
    "    'res_u_3': {'cell': 'UpscalingCell',   'block': 'VGGBlock',       'kernel': 3},\n",
    "    'res_u_5': {'cell': 'UpscalingCell',   'block': 'VGGBlock',       'kernel': 5},\n",
    "    'res_u_7': {'cell': 'UpscalingCell',   'block': 'VGGBlock',       'kernel': 7},\n",
    "    'vgg_d_3': {'cell': 'DownscalingCell', 'block': 'VGGBlock',       'kernel': 3},\n",
    "    'vgg_d_5': {'cell': 'DownscalingCell', 'block': 'VGGBlock',       'kernel': 5},\n",
    "    'vgg_d_7': {'cell': 'DownscalingCell', 'block': 'VGGBlock',       'kernel': 7},\n",
    "    'vgg_n_3': {'cell': 'NonscalingCell',  'block': 'VGGBlock',       'kernel': 3},\n",
    "    'vgg_n_5': {'cell': 'NonscalingCell',  'block': 'VGGBlock',       'kernel': 5},\n",
    "    'vgg_n_7': {'cell': 'NonscalingCell',  'block': 'VGGBlock',       'kernel': 7},\n",
    "    'vgg_u_3': {'cell': 'UpscalingCell',   'block': 'VGGBlock',       'kernel': 3},\n",
    "    'vgg_u_5': {'cell': 'UpscalingCell',   'block': 'VGGBlock',       'kernel': 5},\n",
    "    'vgg_u_7': {'cell': 'UpscalingCell',   'block': 'VGGBlock',       'kernel': 7},\n",
    "}"
   ]
  },
  {
   "cell_type": "code",
   "execution_count": 4,
   "metadata": {},
   "outputs": [
    {
     "name": "stderr",
     "output_type": "stream",
     "text": [
      "2022-10-09 22:21:02.167336: I tensorflow/core/platform/cpu_feature_guard.cc:193] This TensorFlow binary is optimized with oneAPI Deep Neural Network Library (oneDNN) to use the following CPU instructions in performance-critical operations:  AVX2 FMA\n",
      "To enable them in other operations, rebuild TensorFlow with the appropriate compiler flags.\n",
      "2022-10-09 22:21:02.167840: I tensorflow/stream_executor/cuda/cuda_gpu_executor.cc:975] successful NUMA node read from SysFS had negative value (-1), but there must be at least one NUMA node, so returning NUMA node zero\n",
      "2022-10-09 22:21:02.168019: I tensorflow/stream_executor/cuda/cuda_gpu_executor.cc:975] successful NUMA node read from SysFS had negative value (-1), but there must be at least one NUMA node, so returning NUMA node zero\n",
      "2022-10-09 22:21:02.168117: I tensorflow/stream_executor/cuda/cuda_gpu_executor.cc:975] successful NUMA node read from SysFS had negative value (-1), but there must be at least one NUMA node, so returning NUMA node zero\n",
      "2022-10-09 22:21:02.581527: I tensorflow/stream_executor/cuda/cuda_gpu_executor.cc:975] successful NUMA node read from SysFS had negative value (-1), but there must be at least one NUMA node, so returning NUMA node zero\n",
      "2022-10-09 22:21:02.581674: I tensorflow/stream_executor/cuda/cuda_gpu_executor.cc:975] successful NUMA node read from SysFS had negative value (-1), but there must be at least one NUMA node, so returning NUMA node zero\n",
      "2022-10-09 22:21:02.581777: I tensorflow/stream_executor/cuda/cuda_gpu_executor.cc:975] successful NUMA node read from SysFS had negative value (-1), but there must be at least one NUMA node, so returning NUMA node zero\n",
      "2022-10-09 22:21:02.581855: I tensorflow/core/common_runtime/gpu/gpu_device.cc:1532] Created device /job:localhost/replica:0/task:0/device:GPU:0 with 9458 MB memory:  -> device: 0, name: NVIDIA GeForce RTX 3060, pci bus id: 0000:01:00.0, compute capability: 8.6\n"
     ]
    },
    {
     "name": "stdout",
     "output_type": "stream",
     "text": [
      "Epoch 1/50\n"
     ]
    },
    {
     "name": "stderr",
     "output_type": "stream",
     "text": [
      "2022-10-09 22:21:07.578417: W tensorflow/core/framework/cpu_allocator_impl.cc:82] Allocation of 37748736 exceeds 10% of free system memory.\n",
      "2022-10-09 22:21:07.590227: W tensorflow/core/framework/cpu_allocator_impl.cc:82] Allocation of 37748736 exceeds 10% of free system memory.\n",
      "2022-10-09 22:21:07.605900: W tensorflow/core/framework/cpu_allocator_impl.cc:82] Allocation of 75497472 exceeds 10% of free system memory.\n",
      "2022-10-09 22:21:07.625960: W tensorflow/core/framework/cpu_allocator_impl.cc:82] Allocation of 75497472 exceeds 10% of free system memory.\n",
      "2022-10-09 22:21:07.659650: W tensorflow/core/framework/cpu_allocator_impl.cc:82] Allocation of 150994944 exceeds 10% of free system memory.\n",
      "2022-10-09 22:21:09.459630: I tensorflow/stream_executor/cuda/cuda_dnn.cc:384] Loaded cuDNN version 8400\n",
      "2022-10-09 22:21:11.793047: I tensorflow/core/platform/default/subprocess.cc:304] Start cannot spawn child process: No such file or directory\n",
      "2022-10-09 22:21:14.380588: W tensorflow/core/framework/op_kernel.cc:1733] INVALID_ARGUMENT: required broadcastable shapes\n",
      "2022-10-09 22:21:14.381640: W tensorflow/core/framework/op_kernel.cc:1733] INVALID_ARGUMENT: required broadcastable shapes\n",
      "2022-10-09 22:21:14.381683: W tensorflow/core/framework/op_kernel.cc:1733] INVALID_ARGUMENT: required broadcastable shapes\n",
      "2022-10-09 22:21:14.381693: W tensorflow/core/framework/op_kernel.cc:1733] INVALID_ARGUMENT: required broadcastable shapes\n"
     ]
    },
    {
     "ename": "InvalidArgumentError",
     "evalue": "Graph execution error:\n\nDetected at node 'gen_dice_coef_loss/mul' defined at (most recent call last):\n    File \"/usr/lib/python3.8/runpy.py\", line 194, in _run_module_as_main\n      return _run_code(code, main_globals, None,\n    File \"/usr/lib/python3.8/runpy.py\", line 87, in _run_code\n      exec(code, run_globals)\n    File \"/home/guilherme/git/segqnas/.venv/lib/python3.8/site-packages/ipykernel_launcher.py\", line 17, in <module>\n      app.launch_new_instance()\n    File \"/home/guilherme/git/segqnas/.venv/lib/python3.8/site-packages/traitlets/config/application.py\", line 976, in launch_instance\n      app.start()\n    File \"/home/guilherme/git/segqnas/.venv/lib/python3.8/site-packages/ipykernel/kernelapp.py\", line 712, in start\n      self.io_loop.start()\n    File \"/home/guilherme/git/segqnas/.venv/lib/python3.8/site-packages/tornado/platform/asyncio.py\", line 215, in start\n      self.asyncio_loop.run_forever()\n    File \"/usr/lib/python3.8/asyncio/base_events.py\", line 570, in run_forever\n      self._run_once()\n    File \"/usr/lib/python3.8/asyncio/base_events.py\", line 1859, in _run_once\n      handle._run()\n    File \"/usr/lib/python3.8/asyncio/events.py\", line 81, in _run\n      self._context.run(self._callback, *self._args)\n    File \"/home/guilherme/git/segqnas/.venv/lib/python3.8/site-packages/ipykernel/kernelbase.py\", line 510, in dispatch_queue\n      await self.process_one()\n    File \"/home/guilherme/git/segqnas/.venv/lib/python3.8/site-packages/ipykernel/kernelbase.py\", line 499, in process_one\n      await dispatch(*args)\n    File \"/home/guilherme/git/segqnas/.venv/lib/python3.8/site-packages/ipykernel/kernelbase.py\", line 406, in dispatch_shell\n      await result\n    File \"/home/guilherme/git/segqnas/.venv/lib/python3.8/site-packages/ipykernel/kernelbase.py\", line 730, in execute_request\n      reply_content = await reply_content\n    File \"/home/guilherme/git/segqnas/.venv/lib/python3.8/site-packages/ipykernel/ipkernel.py\", line 383, in do_execute\n      res = shell.run_cell(\n    File \"/home/guilherme/git/segqnas/.venv/lib/python3.8/site-packages/ipykernel/zmqshell.py\", line 528, in run_cell\n      return super().run_cell(*args, **kwargs)\n    File \"/home/guilherme/git/segqnas/.venv/lib/python3.8/site-packages/IPython/core/interactiveshell.py\", line 2881, in run_cell\n      result = self._run_cell(\n    File \"/home/guilherme/git/segqnas/.venv/lib/python3.8/site-packages/IPython/core/interactiveshell.py\", line 2936, in _run_cell\n      return runner(coro)\n    File \"/home/guilherme/git/segqnas/.venv/lib/python3.8/site-packages/IPython/core/async_helpers.py\", line 129, in _pseudo_sync_runner\n      coro.send(None)\n    File \"/home/guilherme/git/segqnas/.venv/lib/python3.8/site-packages/IPython/core/interactiveshell.py\", line 3135, in run_cell_async\n      has_raised = await self.run_ast_nodes(code_ast.body, cell_name,\n    File \"/home/guilherme/git/segqnas/.venv/lib/python3.8/site-packages/IPython/core/interactiveshell.py\", line 3338, in run_ast_nodes\n      if await self.run_code(code, result, async_=asy):\n    File \"/home/guilherme/git/segqnas/.venv/lib/python3.8/site-packages/IPython/core/interactiveshell.py\", line 3398, in run_code\n      exec(code_obj, self.user_global_ns, self.user_ns)\n    File \"/tmp/ipykernel_372921/3720741059.py\", line 30, in <cell line: 7>\n      history = model.fit(\n    File \"/home/guilherme/git/segqnas/.venv/lib/python3.8/site-packages/keras/utils/traceback_utils.py\", line 64, in error_handler\n      return fn(*args, **kwargs)\n    File \"/home/guilherme/git/segqnas/.venv/lib/python3.8/site-packages/keras/engine/training.py\", line 1409, in fit\n      tmp_logs = self.train_function(iterator)\n    File \"/home/guilherme/git/segqnas/.venv/lib/python3.8/site-packages/keras/engine/training.py\", line 1051, in train_function\n      return step_function(self, iterator)\n    File \"/home/guilherme/git/segqnas/.venv/lib/python3.8/site-packages/keras/engine/training.py\", line 1040, in step_function\n      outputs = model.distribute_strategy.run(run_step, args=(data,))\n    File \"/home/guilherme/git/segqnas/.venv/lib/python3.8/site-packages/keras/engine/training.py\", line 1030, in run_step\n      outputs = model.train_step(data)\n    File \"/home/guilherme/git/segqnas/.venv/lib/python3.8/site-packages/keras/engine/training.py\", line 890, in train_step\n      loss = self.compute_loss(x, y, y_pred, sample_weight)\n    File \"/home/guilherme/git/segqnas/.venv/lib/python3.8/site-packages/keras/engine/training.py\", line 948, in compute_loss\n      return self.compiled_loss(\n    File \"/home/guilherme/git/segqnas/.venv/lib/python3.8/site-packages/keras/engine/compile_utils.py\", line 201, in __call__\n      loss_value = loss_obj(y_t, y_p, sample_weight=sw)\n    File \"/home/guilherme/git/segqnas/.venv/lib/python3.8/site-packages/keras/losses.py\", line 139, in __call__\n      losses = call_fn(y_true, y_pred)\n    File \"/home/guilherme/git/segqnas/.venv/lib/python3.8/site-packages/keras/losses.py\", line 243, in call\n      return ag_fn(y_true, y_pred, **self._fn_kwargs)\n    File \"/home/guilherme/git/segqnas/cnn/loss.py\", line 8, in gen_dice_coef_loss\n      return 1 - soft_gen_dice_coef(y_true, y_pred)\n    File \"/home/guilherme/git/segqnas/cnn/metric.py\", line 11, in soft_gen_dice_coef\n      intersect = K.sum(y_true_f * y_pred_f, axis=-1)\nNode: 'gen_dice_coef_loss/mul'\nrequired broadcastable shapes\n\t [[{{node gen_dice_coef_loss/mul}}]] [Op:__inference_train_function_8751]",
     "output_type": "error",
     "traceback": [
      "\u001b[0;31m---------------------------------------------------------------------------\u001b[0m",
      "\u001b[0;31mInvalidArgumentError\u001b[0m                      Traceback (most recent call last)",
      "\u001b[1;32m/home/guilherme/git/segqnas/test_train_cross_val.ipynb Cell 4'\u001b[0m in \u001b[0;36m<cell line: 7>\u001b[0;34m()\u001b[0m\n\u001b[1;32m     <a href='vscode-notebook-cell:/home/guilherme/git/segqnas/test_train_cross_val.ipynb#ch0000003?line=23'>24</a>\u001b[0m     \u001b[39mreturn\u001b[39;00m ((initial_learning_rate \u001b[39m-\u001b[39m end_learning_rate) \u001b[39m*\u001b[39m\n\u001b[1;32m     <a href='vscode-notebook-cell:/home/guilherme/git/segqnas/test_train_cross_val.ipynb#ch0000003?line=24'>25</a>\u001b[0m         (\u001b[39m1\u001b[39m \u001b[39m-\u001b[39m epoch \u001b[39m/\u001b[39m \u001b[39mfloat\u001b[39m(epochs)) \u001b[39m*\u001b[39m\u001b[39m*\u001b[39m (power)\n\u001b[1;32m     <a href='vscode-notebook-cell:/home/guilherme/git/segqnas/test_train_cross_val.ipynb#ch0000003?line=25'>26</a>\u001b[0m         ) \u001b[39m+\u001b[39m end_learning_rate\n\u001b[1;32m     <a href='vscode-notebook-cell:/home/guilherme/git/segqnas/test_train_cross_val.ipynb#ch0000003?line=27'>28</a>\u001b[0m lr_callback \u001b[39m=\u001b[39m tf\u001b[39m.\u001b[39mkeras\u001b[39m.\u001b[39mcallbacks\u001b[39m.\u001b[39mLearningRateScheduler(learning_rate_fn, verbose\u001b[39m=\u001b[39m\u001b[39mFalse\u001b[39;00m)\n\u001b[0;32m---> <a href='vscode-notebook-cell:/home/guilherme/git/segqnas/test_train_cross_val.ipynb#ch0000003?line=29'>30</a>\u001b[0m history \u001b[39m=\u001b[39m model\u001b[39m.\u001b[39;49mfit(\n\u001b[1;32m     <a href='vscode-notebook-cell:/home/guilherme/git/segqnas/test_train_cross_val.ipynb#ch0000003?line=30'>31</a>\u001b[0m     train_dataloader,\n\u001b[1;32m     <a href='vscode-notebook-cell:/home/guilherme/git/segqnas/test_train_cross_val.ipynb#ch0000003?line=31'>32</a>\u001b[0m     validation_data\u001b[39m=\u001b[39;49mval_dataloader,\n\u001b[1;32m     <a href='vscode-notebook-cell:/home/guilherme/git/segqnas/test_train_cross_val.ipynb#ch0000003?line=32'>33</a>\u001b[0m     epochs\u001b[39m=\u001b[39;49mepochs,\n\u001b[1;32m     <a href='vscode-notebook-cell:/home/guilherme/git/segqnas/test_train_cross_val.ipynb#ch0000003?line=33'>34</a>\u001b[0m     verbose\u001b[39m=\u001b[39;49m\u001b[39m1\u001b[39;49m,\n\u001b[1;32m     <a href='vscode-notebook-cell:/home/guilherme/git/segqnas/test_train_cross_val.ipynb#ch0000003?line=34'>35</a>\u001b[0m     callbacks\u001b[39m=\u001b[39;49m[\n\u001b[1;32m     <a href='vscode-notebook-cell:/home/guilherme/git/segqnas/test_train_cross_val.ipynb#ch0000003?line=35'>36</a>\u001b[0m         lr_callback\n\u001b[1;32m     <a href='vscode-notebook-cell:/home/guilherme/git/segqnas/test_train_cross_val.ipynb#ch0000003?line=36'>37</a>\u001b[0m     ]\n\u001b[1;32m     <a href='vscode-notebook-cell:/home/guilherme/git/segqnas/test_train_cross_val.ipynb#ch0000003?line=37'>38</a>\u001b[0m )\n\u001b[1;32m     <a href='vscode-notebook-cell:/home/guilherme/git/segqnas/test_train_cross_val.ipynb#ch0000003?line=39'>40</a>\u001b[0m \u001b[39mprint\u001b[39m(history\u001b[39m.\u001b[39mhistory[\u001b[39m'\u001b[39m\u001b[39mval_gen_dice_coef\u001b[39m\u001b[39m'\u001b[39m][\u001b[39m-\u001b[39mevaluation_epochs:])\n\u001b[1;32m     <a href='vscode-notebook-cell:/home/guilherme/git/segqnas/test_train_cross_val.ipynb#ch0000003?line=41'>42</a>\u001b[0m val_gen_dice_coef_list\u001b[39m.\u001b[39mextend(history\u001b[39m.\u001b[39mhistory[\u001b[39m'\u001b[39m\u001b[39mval_gen_dice_coef\u001b[39m\u001b[39m'\u001b[39m][\u001b[39m-\u001b[39mevaluation_epochs:])\n",
      "File \u001b[0;32m~/git/segqnas/.venv/lib/python3.8/site-packages/keras/utils/traceback_utils.py:67\u001b[0m, in \u001b[0;36mfilter_traceback.<locals>.error_handler\u001b[0;34m(*args, **kwargs)\u001b[0m\n\u001b[1;32m     65\u001b[0m \u001b[39mexcept\u001b[39;00m \u001b[39mException\u001b[39;00m \u001b[39mas\u001b[39;00m e:  \u001b[39m# pylint: disable=broad-except\u001b[39;00m\n\u001b[1;32m     66\u001b[0m   filtered_tb \u001b[39m=\u001b[39m _process_traceback_frames(e\u001b[39m.\u001b[39m__traceback__)\n\u001b[0;32m---> 67\u001b[0m   \u001b[39mraise\u001b[39;00m e\u001b[39m.\u001b[39mwith_traceback(filtered_tb) \u001b[39mfrom\u001b[39;00m \u001b[39mNone\u001b[39m\n\u001b[1;32m     68\u001b[0m \u001b[39mfinally\u001b[39;00m:\n\u001b[1;32m     69\u001b[0m   \u001b[39mdel\u001b[39;00m filtered_tb\n",
      "File \u001b[0;32m~/git/segqnas/.venv/lib/python3.8/site-packages/tensorflow/python/eager/execute.py:54\u001b[0m, in \u001b[0;36mquick_execute\u001b[0;34m(op_name, num_outputs, inputs, attrs, ctx, name)\u001b[0m\n\u001b[1;32m     52\u001b[0m \u001b[39mtry\u001b[39;00m:\n\u001b[1;32m     53\u001b[0m   ctx\u001b[39m.\u001b[39mensure_initialized()\n\u001b[0;32m---> 54\u001b[0m   tensors \u001b[39m=\u001b[39m pywrap_tfe\u001b[39m.\u001b[39mTFE_Py_Execute(ctx\u001b[39m.\u001b[39m_handle, device_name, op_name,\n\u001b[1;32m     55\u001b[0m                                       inputs, attrs, num_outputs)\n\u001b[1;32m     56\u001b[0m \u001b[39mexcept\u001b[39;00m core\u001b[39m.\u001b[39m_NotOkStatusException \u001b[39mas\u001b[39;00m e:\n\u001b[1;32m     57\u001b[0m   \u001b[39mif\u001b[39;00m name \u001b[39mis\u001b[39;00m \u001b[39mnot\u001b[39;00m \u001b[39mNone\u001b[39;00m:\n",
      "\u001b[0;31mInvalidArgumentError\u001b[0m: Graph execution error:\n\nDetected at node 'gen_dice_coef_loss/mul' defined at (most recent call last):\n    File \"/usr/lib/python3.8/runpy.py\", line 194, in _run_module_as_main\n      return _run_code(code, main_globals, None,\n    File \"/usr/lib/python3.8/runpy.py\", line 87, in _run_code\n      exec(code, run_globals)\n    File \"/home/guilherme/git/segqnas/.venv/lib/python3.8/site-packages/ipykernel_launcher.py\", line 17, in <module>\n      app.launch_new_instance()\n    File \"/home/guilherme/git/segqnas/.venv/lib/python3.8/site-packages/traitlets/config/application.py\", line 976, in launch_instance\n      app.start()\n    File \"/home/guilherme/git/segqnas/.venv/lib/python3.8/site-packages/ipykernel/kernelapp.py\", line 712, in start\n      self.io_loop.start()\n    File \"/home/guilherme/git/segqnas/.venv/lib/python3.8/site-packages/tornado/platform/asyncio.py\", line 215, in start\n      self.asyncio_loop.run_forever()\n    File \"/usr/lib/python3.8/asyncio/base_events.py\", line 570, in run_forever\n      self._run_once()\n    File \"/usr/lib/python3.8/asyncio/base_events.py\", line 1859, in _run_once\n      handle._run()\n    File \"/usr/lib/python3.8/asyncio/events.py\", line 81, in _run\n      self._context.run(self._callback, *self._args)\n    File \"/home/guilherme/git/segqnas/.venv/lib/python3.8/site-packages/ipykernel/kernelbase.py\", line 510, in dispatch_queue\n      await self.process_one()\n    File \"/home/guilherme/git/segqnas/.venv/lib/python3.8/site-packages/ipykernel/kernelbase.py\", line 499, in process_one\n      await dispatch(*args)\n    File \"/home/guilherme/git/segqnas/.venv/lib/python3.8/site-packages/ipykernel/kernelbase.py\", line 406, in dispatch_shell\n      await result\n    File \"/home/guilherme/git/segqnas/.venv/lib/python3.8/site-packages/ipykernel/kernelbase.py\", line 730, in execute_request\n      reply_content = await reply_content\n    File \"/home/guilherme/git/segqnas/.venv/lib/python3.8/site-packages/ipykernel/ipkernel.py\", line 383, in do_execute\n      res = shell.run_cell(\n    File \"/home/guilherme/git/segqnas/.venv/lib/python3.8/site-packages/ipykernel/zmqshell.py\", line 528, in run_cell\n      return super().run_cell(*args, **kwargs)\n    File \"/home/guilherme/git/segqnas/.venv/lib/python3.8/site-packages/IPython/core/interactiveshell.py\", line 2881, in run_cell\n      result = self._run_cell(\n    File \"/home/guilherme/git/segqnas/.venv/lib/python3.8/site-packages/IPython/core/interactiveshell.py\", line 2936, in _run_cell\n      return runner(coro)\n    File \"/home/guilherme/git/segqnas/.venv/lib/python3.8/site-packages/IPython/core/async_helpers.py\", line 129, in _pseudo_sync_runner\n      coro.send(None)\n    File \"/home/guilherme/git/segqnas/.venv/lib/python3.8/site-packages/IPython/core/interactiveshell.py\", line 3135, in run_cell_async\n      has_raised = await self.run_ast_nodes(code_ast.body, cell_name,\n    File \"/home/guilherme/git/segqnas/.venv/lib/python3.8/site-packages/IPython/core/interactiveshell.py\", line 3338, in run_ast_nodes\n      if await self.run_code(code, result, async_=asy):\n    File \"/home/guilherme/git/segqnas/.venv/lib/python3.8/site-packages/IPython/core/interactiveshell.py\", line 3398, in run_code\n      exec(code_obj, self.user_global_ns, self.user_ns)\n    File \"/tmp/ipykernel_372921/3720741059.py\", line 30, in <cell line: 7>\n      history = model.fit(\n    File \"/home/guilherme/git/segqnas/.venv/lib/python3.8/site-packages/keras/utils/traceback_utils.py\", line 64, in error_handler\n      return fn(*args, **kwargs)\n    File \"/home/guilherme/git/segqnas/.venv/lib/python3.8/site-packages/keras/engine/training.py\", line 1409, in fit\n      tmp_logs = self.train_function(iterator)\n    File \"/home/guilherme/git/segqnas/.venv/lib/python3.8/site-packages/keras/engine/training.py\", line 1051, in train_function\n      return step_function(self, iterator)\n    File \"/home/guilherme/git/segqnas/.venv/lib/python3.8/site-packages/keras/engine/training.py\", line 1040, in step_function\n      outputs = model.distribute_strategy.run(run_step, args=(data,))\n    File \"/home/guilherme/git/segqnas/.venv/lib/python3.8/site-packages/keras/engine/training.py\", line 1030, in run_step\n      outputs = model.train_step(data)\n    File \"/home/guilherme/git/segqnas/.venv/lib/python3.8/site-packages/keras/engine/training.py\", line 890, in train_step\n      loss = self.compute_loss(x, y, y_pred, sample_weight)\n    File \"/home/guilherme/git/segqnas/.venv/lib/python3.8/site-packages/keras/engine/training.py\", line 948, in compute_loss\n      return self.compiled_loss(\n    File \"/home/guilherme/git/segqnas/.venv/lib/python3.8/site-packages/keras/engine/compile_utils.py\", line 201, in __call__\n      loss_value = loss_obj(y_t, y_p, sample_weight=sw)\n    File \"/home/guilherme/git/segqnas/.venv/lib/python3.8/site-packages/keras/losses.py\", line 139, in __call__\n      losses = call_fn(y_true, y_pred)\n    File \"/home/guilherme/git/segqnas/.venv/lib/python3.8/site-packages/keras/losses.py\", line 243, in call\n      return ag_fn(y_true, y_pred, **self._fn_kwargs)\n    File \"/home/guilherme/git/segqnas/cnn/loss.py\", line 8, in gen_dice_coef_loss\n      return 1 - soft_gen_dice_coef(y_true, y_pred)\n    File \"/home/guilherme/git/segqnas/cnn/metric.py\", line 11, in soft_gen_dice_coef\n      intersect = K.sum(y_true_f * y_pred_f, axis=-1)\nNode: 'gen_dice_coef_loss/mul'\nrequired broadcastable shapes\n\t [[{{node gen_dice_coef_loss/mul}}]] [Op:__inference_train_function_8751]"
     ]
    }
   ],
   "source": [
    "val_gen_dice_coef_list = []\n",
    "num_splits = 5\n",
    "num_initializations = 3\n",
    "epochs = 50\n",
    "evaluation_epochs = int(0.2 * epochs)\n",
    "\n",
    "for initialization in range(num_initializations):\n",
    "\n",
    "    for fold in range(num_splits):\n",
    "        train_patients, val_patients = get_split_deterministic(patients, fold=fold, num_splits=num_splits, random_state=initialization)\n",
    "\n",
    "        train_dataset = SpleenDataset(train_patients, only_non_empty_slices=True)\n",
    "        val_dataset = SpleenDataset(val_patients, only_non_empty_slices=True)\n",
    "\n",
    "        train_dataloader = SpleenDataloader(train_dataset, batch_size, train_augmentation)\n",
    "        val_dataloader = SpleenDataloader(val_dataset, batch_size, val_augmentation)\n",
    "\n",
    "        model = build_net((*patch_size, 1), num_classes, fn_dict, net_list)\n",
    " \n",
    "        def learning_rate_fn(epoch):\n",
    "            initial_learning_rate = 1e-3\n",
    "            end_learning_rate = 1e-4\n",
    "            power = 0.9\n",
    "            return ((initial_learning_rate - end_learning_rate) *\n",
    "                (1 - epoch / float(epochs)) ** (power)\n",
    "                ) + end_learning_rate\n",
    "            \n",
    "        lr_callback = tf.keras.callbacks.LearningRateScheduler(learning_rate_fn, verbose=False)\n",
    "\n",
    "        history = model.fit(\n",
    "            train_dataloader,\n",
    "            validation_data=val_dataloader,\n",
    "            epochs=epochs,\n",
    "            verbose=1,\n",
    "            callbacks=[\n",
    "                lr_callback\n",
    "            ]\n",
    "        )\n",
    "        \n",
    "        print(history.history['val_gen_dice_coef'][-evaluation_epochs:])\n",
    "\n",
    "        val_gen_dice_coef_list.extend(history.history['val_gen_dice_coef'][-evaluation_epochs:])\n",
    "\n",
    "        # for patient in val_patients:\n",
    "        #     patient_dataset = SpleenDataset([patient], only_non_empty_slices=True)\n",
    "        #     patient_dataloader = SpleenDataloader(patient_dataset, 1, val_augmentation, shuffle=False)\n",
    "        #     results = model.evaluate(patient_dataloader)\n",
    "        #     val_gen_dice_coef_patient = results[-1]\n",
    "        #     val_gen_dice_coef_list.append(val_gen_dice_coef_patient)\n",
    "\n",
    "        #plotting the dice coef results (accuracy) as a function of the number of epochs\n",
    "        plt.figure()\n",
    "        plt.plot(history.history['gen_dice_coef'])\n",
    "        plt.plot(history.history['val_gen_dice_coef'])\n",
    "        plt.title('Model: Generalized Dice Coeficient')\n",
    "        plt.ylabel('Dice Coef')\n",
    "        plt.xlabel('Epoch')\n",
    "        plt.legend(['Train', 'Test'], loc='upper left')\n",
    "        plt.show()\n",
    "\n",
    "        #plotting the dice coef results (loss function) as a function of the number of epochs\n",
    "        # plt.figure()\n",
    "        # plt.plot(history.history['loss'])\n",
    "        # plt.plot(history.history['val_loss'])\n",
    "        # plt.title('Model: Generalized Dice Coeficient')\n",
    "        # plt.ylabel('Dice Loss')\n",
    "        # plt.xlabel('Epoch')\n",
    "        # plt.legend(['Train', 'Test'], loc='upper right')\n",
    "        # plt.show()\n",
    "\n",
    "mean_val_gen_dice_coef = (np.mean(val_gen_dice_coef_list))\n",
    "std_val_gen_dice_coef = (np.std(val_gen_dice_coef_list))\n",
    "\n",
    "print(f'Dice {mean_val_gen_dice_coef} +- {std_val_gen_dice_coef}')"
   ]
  },
  {
   "cell_type": "code",
   "execution_count": null,
   "metadata": {},
   "outputs": [],
   "source": [
    "#!tensorboard --logdir='./logs'"
   ]
  }
 ],
 "metadata": {
  "kernelspec": {
   "display_name": "Python 3.8.10 ('.venv': venv)",
   "language": "python",
   "name": "python3"
  },
  "language_info": {
   "codemirror_mode": {
    "name": "ipython",
    "version": 3
   },
   "file_extension": ".py",
   "mimetype": "text/x-python",
   "name": "python",
   "nbconvert_exporter": "python",
   "pygments_lexer": "ipython3",
   "version": "3.8.10"
  },
  "orig_nbformat": 4,
  "vscode": {
   "interpreter": {
    "hash": "15b591e0ce635b5b9c208f30fdc7e069506189097a1aa8b055086f0ec8562519"
   }
  }
 },
 "nbformat": 4,
 "nbformat_minor": 2
}
