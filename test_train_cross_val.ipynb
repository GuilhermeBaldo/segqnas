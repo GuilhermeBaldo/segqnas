{
 "cells": [
  {
   "cell_type": "code",
   "execution_count": 1,
   "metadata": {},
   "outputs": [
    {
     "name": "stderr",
     "output_type": "stream",
     "text": [
      "2022-09-10 11:44:35.932330: I tensorflow/stream_executor/cuda/cuda_gpu_executor.cc:975] successful NUMA node read from SysFS had negative value (-1), but there must be at least one NUMA node, so returning NUMA node zero\n",
      "2022-09-10 11:44:35.962436: I tensorflow/stream_executor/cuda/cuda_gpu_executor.cc:975] successful NUMA node read from SysFS had negative value (-1), but there must be at least one NUMA node, so returning NUMA node zero\n",
      "2022-09-10 11:44:35.962569: I tensorflow/stream_executor/cuda/cuda_gpu_executor.cc:975] successful NUMA node read from SysFS had negative value (-1), but there must be at least one NUMA node, so returning NUMA node zero\n"
     ]
    }
   ],
   "source": [
    "from cnn.model import build_net\n",
    "\n",
    "from spleen_dataset.dataloader import SpleenDataloader, SpleenDataset, get_training_augmentation, get_validation_augmentation\n",
    "from spleen_dataset.config import dataset_folder\n",
    "from spleen_dataset.utils import get_split_deterministic, get_list_of_patients\n",
    "\n",
    "from tensorflow.keras.callbacks import ModelCheckpoint, ReduceLROnPlateau, EarlyStopping, TensorBoard\n",
    "import matplotlib.pyplot as plt\n",
    "import random\n",
    "import numpy as np\n",
    "\n",
    "import tensorflow as tf\n",
    "gpus = tf.config.experimental.list_physical_devices('GPU')\n",
    "if gpus:\n",
    "  try:\n",
    "    tf.config.experimental.set_virtual_device_configuration(gpus[0], [tf.config.experimental.VirtualDeviceConfiguration(memory_limit=5120)])\n",
    "    #tf.config.experimental.set_memory_growth(gpus[0], False)\n",
    "  except RuntimeError as e:\n",
    "    print(e)"
   ]
  },
  {
   "cell_type": "code",
   "execution_count": 2,
   "metadata": {},
   "outputs": [],
   "source": [
    "patients = get_list_of_patients(dataset_folder)"
   ]
  },
  {
   "cell_type": "code",
   "execution_count": 3,
   "metadata": {},
   "outputs": [],
   "source": [
    "patch_size = (128, 128)\n",
    "batch_size = 32\n",
    "num_classes = 2\n",
    "train_augmentation = get_training_augmentation(patch_size)\n",
    "val_augmentation = get_validation_augmentation(patch_size)\n",
    "\n",
    "net_list = [\n",
    "    'xception_3_32', \n",
    "    'xception_3_64',\n",
    "    'xception_3_64',\n",
    "    'xception_3_256',\n",
    "    'xception_3_512',\n",
    "    'xception_3_256',\n",
    "    'xception_3_128',\n",
    "    'xception_3_64',\n",
    "    'xception_3_32'\n",
    "]\n",
    "\n",
    "fn_dict = {\n",
    "    'vgg_3_32':       {'block': 'VGGBlock',      'params': {'kernel': 3, 'filters': 32},  'prob': 1/36},\n",
    "    'vgg_3_64':       {'block': 'VGGBlock',      'params': {'kernel': 3, 'filters': 64},  'prob': 1/36},\n",
    "    'vgg_3_128':      {'block': 'VGGBlock',      'params': {'kernel': 3, 'filters': 128}, 'prob': 1/36},\n",
    "    'vgg_3_256':      {'block': 'VGGBlock',      'params': {'kernel': 3, 'filters': 256}, 'prob': 1/36},\n",
    "    'vgg_3_512':      {'block': 'VGGBlock',      'params': {'kernel': 3, 'filters': 512}, 'prob': 1/36},\n",
    "    'resnet_3_32':    {'block': 'ResNetBlock',   'params': {'kernel': 3, 'filters': 32},  'prob': 1/36},\n",
    "    'resnet_3_64':    {'block': 'ResNetBlock',   'params': {'kernel': 3, 'filters': 64},  'prob': 1/36},\n",
    "    'resnet_3_128':   {'block': 'ResNetBlock',   'params': {'kernel': 3, 'filters': 128}, 'prob': 1/36},\n",
    "    'resnet_3_256':   {'block': 'ResNetBlock',   'params': {'kernel': 3, 'filters': 256}, 'prob': 1/36},\n",
    "    'resnet_3_512':   {'block': 'ResNetBlock',   'params': {'kernel': 3, 'filters': 512}, 'prob': 1/36},\n",
    "    'xception_3_32':  {'block': 'XceptionBlock', 'params': {'kernel': 3, 'filters': 32},  'prob': 1/36},\n",
    "    'xception_3_64':  {'block': 'XceptionBlock', 'params': {'kernel': 3, 'filters': 64},  'prob': 1/36},\n",
    "    'xception_3_128': {'block': 'XceptionBlock', 'params': {'kernel': 3, 'filters': 128}, 'prob': 1/36},\n",
    "    'xception_3_256': {'block': 'XceptionBlock', 'params': {'kernel': 3, 'filters': 256}, 'prob': 1/36},\n",
    "    'xception_3_512': {'block': 'XceptionBlock', 'params': {'kernel': 3, 'filters': 512}, 'prob': 1/36},\n",
    "    'mbconv_3_32':    {'block': 'MBConvBlock',   'params': {'kernel': 3, 'filters': 32},  'prob': 1/36},\n",
    "    'mbconv_3_64':    {'block': 'MBConvBlock',   'params': {'kernel': 3, 'filters': 64},  'prob': 1/36},\n",
    "    'mbconv_3_128':   {'block': 'MBConvBlock',   'params': {'kernel': 3, 'filters': 128}, 'prob': 1/36},\n",
    "    'mbconv_3_256':   {'block': 'MBConvBlock',   'params': {'kernel': 3, 'filters': 256}, 'prob': 1/36},\n",
    "    'mbconv_3_512':   {'block': 'MBConvBlock',   'params': {'kernel': 3, 'filters': 512}, 'prob': 1/36},\n",
    "}"
   ]
  },
  {
   "cell_type": "code",
   "execution_count": 4,
   "metadata": {},
   "outputs": [
    {
     "name": "stderr",
     "output_type": "stream",
     "text": [
      "2022-09-10 11:45:14.673450: I tensorflow/core/platform/cpu_feature_guard.cc:193] This TensorFlow binary is optimized with oneAPI Deep Neural Network Library (oneDNN) to use the following CPU instructions in performance-critical operations:  AVX2 FMA\n",
      "To enable them in other operations, rebuild TensorFlow with the appropriate compiler flags.\n",
      "2022-09-10 11:45:14.673999: I tensorflow/stream_executor/cuda/cuda_gpu_executor.cc:975] successful NUMA node read from SysFS had negative value (-1), but there must be at least one NUMA node, so returning NUMA node zero\n",
      "2022-09-10 11:45:14.674195: I tensorflow/stream_executor/cuda/cuda_gpu_executor.cc:975] successful NUMA node read from SysFS had negative value (-1), but there must be at least one NUMA node, so returning NUMA node zero\n",
      "2022-09-10 11:45:14.674290: I tensorflow/stream_executor/cuda/cuda_gpu_executor.cc:975] successful NUMA node read from SysFS had negative value (-1), but there must be at least one NUMA node, so returning NUMA node zero\n",
      "2022-09-10 11:45:15.683005: I tensorflow/stream_executor/cuda/cuda_gpu_executor.cc:975] successful NUMA node read from SysFS had negative value (-1), but there must be at least one NUMA node, so returning NUMA node zero\n",
      "2022-09-10 11:45:15.683140: I tensorflow/stream_executor/cuda/cuda_gpu_executor.cc:975] successful NUMA node read from SysFS had negative value (-1), but there must be at least one NUMA node, so returning NUMA node zero\n",
      "2022-09-10 11:45:15.683231: I tensorflow/stream_executor/cuda/cuda_gpu_executor.cc:975] successful NUMA node read from SysFS had negative value (-1), but there must be at least one NUMA node, so returning NUMA node zero\n",
      "2022-09-10 11:45:15.683304: I tensorflow/core/common_runtime/gpu/gpu_device.cc:1532] Created device /job:localhost/replica:0/task:0/device:GPU:0 with 5120 MB memory:  -> device: 0, name: NVIDIA GeForce RTX 3060, pci bus id: 0000:01:00.0, compute capability: 8.6\n"
     ]
    },
    {
     "name": "stdout",
     "output_type": "stream",
     "text": [
      "Epoch 1/50\n"
     ]
    },
    {
     "name": "stderr",
     "output_type": "stream",
     "text": [
      "2022-09-10 11:45:20.697901: I tensorflow/stream_executor/cuda/cuda_dnn.cc:384] Loaded cuDNN version 8400\n",
      "2022-09-10 11:45:22.138587: I tensorflow/core/platform/default/subprocess.cc:304] Start cannot spawn child process: No such file or directory\n"
     ]
    },
    {
     "name": "stdout",
     "output_type": "stream",
     "text": [
      "26/26 [==============================] - 16s 368ms/step - loss: 0.9086 - gen_dice_coef: 0.0914 - val_loss: 0.7373 - val_gen_dice_coef: 0.2627\n",
      "Epoch 2/50\n",
      "26/26 [==============================] - 5s 183ms/step - loss: 0.6127 - gen_dice_coef: 0.3873 - val_loss: 0.4650 - val_gen_dice_coef: 0.5350\n",
      "Epoch 3/50\n",
      "26/26 [==============================] - 5s 183ms/step - loss: 0.4641 - gen_dice_coef: 0.5359 - val_loss: 0.3963 - val_gen_dice_coef: 0.6037\n",
      "Epoch 4/50\n",
      "26/26 [==============================] - 5s 177ms/step - loss: 0.3776 - gen_dice_coef: 0.6224 - val_loss: 0.3605 - val_gen_dice_coef: 0.6395\n",
      "Epoch 5/50\n",
      "26/26 [==============================] - 5s 185ms/step - loss: 0.3479 - gen_dice_coef: 0.6521 - val_loss: 0.3458 - val_gen_dice_coef: 0.6542\n",
      "Epoch 6/50\n",
      "26/26 [==============================] - 5s 176ms/step - loss: 0.3218 - gen_dice_coef: 0.6782 - val_loss: 0.4084 - val_gen_dice_coef: 0.5916\n",
      "Epoch 7/50\n",
      "26/26 [==============================] - 5s 185ms/step - loss: 0.2956 - gen_dice_coef: 0.7044 - val_loss: 0.3035 - val_gen_dice_coef: 0.6965\n",
      "Epoch 8/50\n",
      "26/26 [==============================] - 5s 187ms/step - loss: 0.3032 - gen_dice_coef: 0.6968 - val_loss: 0.2912 - val_gen_dice_coef: 0.7088\n",
      "Epoch 9/50\n",
      "26/26 [==============================] - 5s 177ms/step - loss: 0.2567 - gen_dice_coef: 0.7433 - val_loss: 0.2635 - val_gen_dice_coef: 0.7365\n",
      "Epoch 10/50\n",
      "26/26 [==============================] - 5s 178ms/step - loss: 0.2551 - gen_dice_coef: 0.7449 - val_loss: 0.2484 - val_gen_dice_coef: 0.7516\n",
      "Epoch 11/50\n",
      "26/26 [==============================] - 5s 178ms/step - loss: 0.2205 - gen_dice_coef: 0.7795 - val_loss: 0.2403 - val_gen_dice_coef: 0.7597\n",
      "Epoch 12/50\n",
      "26/26 [==============================] - 5s 178ms/step - loss: 0.2119 - gen_dice_coef: 0.7881 - val_loss: 0.2619 - val_gen_dice_coef: 0.7381\n",
      "Epoch 13/50\n",
      "26/26 [==============================] - 5s 182ms/step - loss: 0.1968 - gen_dice_coef: 0.8032 - val_loss: 0.2662 - val_gen_dice_coef: 0.7338\n",
      "Epoch 14/50\n",
      "26/26 [==============================] - 5s 187ms/step - loss: 0.1953 - gen_dice_coef: 0.8047 - val_loss: 0.2155 - val_gen_dice_coef: 0.7845\n",
      "Epoch 15/50\n",
      "26/26 [==============================] - 5s 176ms/step - loss: 0.1754 - gen_dice_coef: 0.8246 - val_loss: 0.2413 - val_gen_dice_coef: 0.7587\n",
      "Epoch 16/50\n",
      "26/26 [==============================] - 5s 187ms/step - loss: 0.1914 - gen_dice_coef: 0.8086 - val_loss: 0.2128 - val_gen_dice_coef: 0.7872\n",
      "Epoch 17/50\n",
      "26/26 [==============================] - 5s 178ms/step - loss: 0.2100 - gen_dice_coef: 0.7900 - val_loss: 0.2367 - val_gen_dice_coef: 0.7633\n",
      "Epoch 18/50\n",
      "26/26 [==============================] - 5s 185ms/step - loss: 0.2074 - gen_dice_coef: 0.7926 - val_loss: 0.2026 - val_gen_dice_coef: 0.7974\n",
      "Epoch 19/50\n",
      "26/26 [==============================] - 5s 186ms/step - loss: 0.1834 - gen_dice_coef: 0.8166 - val_loss: 0.1955 - val_gen_dice_coef: 0.8045\n",
      "Epoch 20/50\n",
      "26/26 [==============================] - 5s 183ms/step - loss: 0.1630 - gen_dice_coef: 0.8370 - val_loss: 0.1883 - val_gen_dice_coef: 0.8117\n",
      "Epoch 21/50\n",
      "26/26 [==============================] - 5s 182ms/step - loss: 0.1488 - gen_dice_coef: 0.8512 - val_loss: 0.1770 - val_gen_dice_coef: 0.8230\n",
      "Epoch 22/50\n",
      "26/26 [==============================] - 5s 183ms/step - loss: 0.1408 - gen_dice_coef: 0.8592 - val_loss: 0.1811 - val_gen_dice_coef: 0.8189\n",
      "Epoch 23/50\n",
      "26/26 [==============================] - 5s 181ms/step - loss: 0.1373 - gen_dice_coef: 0.8627 - val_loss: 0.1508 - val_gen_dice_coef: 0.8492\n",
      "Epoch 24/50\n",
      "26/26 [==============================] - 5s 187ms/step - loss: 0.1321 - gen_dice_coef: 0.8679 - val_loss: 0.1737 - val_gen_dice_coef: 0.8263\n",
      "Epoch 25/50\n",
      "26/26 [==============================] - 5s 188ms/step - loss: 0.1274 - gen_dice_coef: 0.8726 - val_loss: 0.1357 - val_gen_dice_coef: 0.8643\n",
      "Epoch 26/50\n",
      "26/26 [==============================] - 5s 178ms/step - loss: 0.1269 - gen_dice_coef: 0.8731 - val_loss: 0.1568 - val_gen_dice_coef: 0.8432\n",
      "Epoch 27/50\n",
      "26/26 [==============================] - 5s 187ms/step - loss: 0.1220 - gen_dice_coef: 0.8780 - val_loss: 0.1835 - val_gen_dice_coef: 0.8165\n",
      "Epoch 28/50\n",
      "26/26 [==============================] - 5s 189ms/step - loss: 0.1526 - gen_dice_coef: 0.8474 - val_loss: 0.1854 - val_gen_dice_coef: 0.8146\n",
      "Epoch 29/50\n",
      "26/26 [==============================] - 5s 184ms/step - loss: 0.1344 - gen_dice_coef: 0.8656 - val_loss: 0.1500 - val_gen_dice_coef: 0.8500\n",
      "Epoch 30/50\n",
      "26/26 [==============================] - 5s 182ms/step - loss: 0.1208 - gen_dice_coef: 0.8792 - val_loss: 0.1704 - val_gen_dice_coef: 0.8296\n",
      "Epoch 31/50\n",
      "26/26 [==============================] - 5s 180ms/step - loss: 0.1206 - gen_dice_coef: 0.8794 - val_loss: 0.1593 - val_gen_dice_coef: 0.8407\n",
      "Epoch 32/50\n",
      "26/26 [==============================] - 5s 182ms/step - loss: 0.1180 - gen_dice_coef: 0.8820 - val_loss: 0.1442 - val_gen_dice_coef: 0.8558\n",
      "Epoch 33/50\n",
      "26/26 [==============================] - 5s 182ms/step - loss: 0.1100 - gen_dice_coef: 0.8900 - val_loss: 0.1469 - val_gen_dice_coef: 0.8531\n",
      "Epoch 34/50\n",
      "26/26 [==============================] - 5s 179ms/step - loss: 0.1100 - gen_dice_coef: 0.8900 - val_loss: 0.1308 - val_gen_dice_coef: 0.8692\n",
      "Epoch 35/50\n",
      "26/26 [==============================] - 5s 179ms/step - loss: 0.1076 - gen_dice_coef: 0.8924 - val_loss: 0.1255 - val_gen_dice_coef: 0.8745\n",
      "Epoch 36/50\n",
      "26/26 [==============================] - 5s 178ms/step - loss: 0.1122 - gen_dice_coef: 0.8878 - val_loss: 0.1347 - val_gen_dice_coef: 0.8653\n",
      "Epoch 37/50\n",
      "26/26 [==============================] - 5s 177ms/step - loss: 0.1111 - gen_dice_coef: 0.8889 - val_loss: 0.1388 - val_gen_dice_coef: 0.8612\n",
      "Epoch 38/50\n",
      "26/26 [==============================] - 5s 181ms/step - loss: 0.1047 - gen_dice_coef: 0.8953 - val_loss: 0.1208 - val_gen_dice_coef: 0.8792\n",
      "Epoch 39/50\n",
      "26/26 [==============================] - 5s 173ms/step - loss: 0.1035 - gen_dice_coef: 0.8965 - val_loss: 0.1575 - val_gen_dice_coef: 0.8425\n",
      "Epoch 40/50\n",
      "26/26 [==============================] - 5s 178ms/step - loss: 0.1229 - gen_dice_coef: 0.8771 - val_loss: 0.1219 - val_gen_dice_coef: 0.8781\n",
      "Epoch 41/50\n",
      "26/26 [==============================] - 5s 178ms/step - loss: 0.1141 - gen_dice_coef: 0.8859 - val_loss: 0.1414 - val_gen_dice_coef: 0.8586\n",
      "Epoch 42/50\n",
      "26/26 [==============================] - 5s 179ms/step - loss: 0.0995 - gen_dice_coef: 0.9005 - val_loss: 0.1515 - val_gen_dice_coef: 0.8485\n",
      "Epoch 43/50\n",
      "26/26 [==============================] - 5s 182ms/step - loss: 0.0995 - gen_dice_coef: 0.9005 - val_loss: 0.1250 - val_gen_dice_coef: 0.8750\n",
      "Epoch 44/50\n",
      "26/26 [==============================] - 5s 177ms/step - loss: 0.1016 - gen_dice_coef: 0.8984 - val_loss: 0.1661 - val_gen_dice_coef: 0.8339\n",
      "Epoch 45/50\n",
      "26/26 [==============================] - 5s 178ms/step - loss: 0.0958 - gen_dice_coef: 0.9042 - val_loss: 0.1322 - val_gen_dice_coef: 0.8678\n",
      "Epoch 46/50\n",
      "26/26 [==============================] - 5s 182ms/step - loss: 0.0980 - gen_dice_coef: 0.9020 - val_loss: 0.1399 - val_gen_dice_coef: 0.8601\n",
      "Epoch 47/50\n",
      "26/26 [==============================] - 5s 179ms/step - loss: 0.0937 - gen_dice_coef: 0.9063 - val_loss: 0.1344 - val_gen_dice_coef: 0.8656\n",
      "Epoch 48/50\n",
      "26/26 [==============================] - 5s 181ms/step - loss: 0.0916 - gen_dice_coef: 0.9084 - val_loss: 0.1531 - val_gen_dice_coef: 0.8469\n",
      "Epoch 49/50\n",
      "26/26 [==============================] - 5s 182ms/step - loss: 0.0991 - gen_dice_coef: 0.9009 - val_loss: 0.1473 - val_gen_dice_coef: 0.8527\n",
      "Epoch 50/50\n",
      "26/26 [==============================] - 5s 176ms/step - loss: 0.1153 - gen_dice_coef: 0.8847 - val_loss: 0.1392 - val_gen_dice_coef: 0.8608\n",
      "11/11 [==============================] - 0s 5ms/step - loss: 0.1949 - gen_dice_coef: 0.8051\n",
      "35/35 [==============================] - 0s 5ms/step - loss: 0.2595 - gen_dice_coef: 0.7405\n",
      "69/69 [==============================] - 0s 5ms/step - loss: 0.1246 - gen_dice_coef: 0.8754\n",
      "10/10 [==============================] - 0s 5ms/step - loss: 0.3241 - gen_dice_coef: 0.6759\n",
      "17/17 [==============================] - 0s 5ms/step - loss: 0.2683 - gen_dice_coef: 0.7317\n",
      "25/25 [==============================] - 0s 5ms/step - loss: 0.1596 - gen_dice_coef: 0.8404\n",
      "18/18 [==============================] - 0s 5ms/step - loss: 0.1797 - gen_dice_coef: 0.8203\n",
      "20/20 [==============================] - 0s 6ms/step - loss: 0.2143 - gen_dice_coef: 0.7857\n",
      "14/14 [==============================] - 0s 5ms/step - loss: 0.3326 - gen_dice_coef: 0.6674\n"
     ]
    },
    {
     "data": {
      "image/png": "[encoded data removed]",
      "text/plain": [
       "<Figure size 432x288 with 1 Axes>"
      ]
     },
     "metadata": {
      "needs_background": "light"
     },
     "output_type": "display_data"
    },
    {
     "data": {
      "image/png": "[encoded data removed]",
      "text/plain": [
       "<Figure size 432x288 with 1 Axes>"
      ]
     },
     "metadata": {
      "needs_background": "light"
     },
     "output_type": "display_data"
    },
    {
     "name": "stdout",
     "output_type": "stream",
     "text": [
      "Epoch 1/50\n",
      "22/26 [========================>.....] - ETA: 0s - loss: 0.9139 - gen_dice_coef: 0.0861"
     ]
    }
   ],
   "source": [
    "val_gen_dice_coef_list = []\n",
    "num_splits = 5\n",
    "num_initializations = 3\n",
    "epochs = 50\n",
    "\n",
    "for initialization in range(num_initializations):\n",
    "\n",
    "    for fold in range(num_splits):\n",
    "        train_patients, val_patients = get_split_deterministic(patients, fold=fold, num_splits=num_splits, random_state=initialization)\n",
    "\n",
    "        train_dataset = SpleenDataset(train_patients, only_non_empty_slices=True)\n",
    "        val_dataset = SpleenDataset(val_patients, only_non_empty_slices=True)\n",
    "\n",
    "        train_dataloader = SpleenDataloader(train_dataset, batch_size, train_augmentation)\n",
    "        val_dataloader = SpleenDataloader(val_dataset, batch_size, val_augmentation)\n",
    "\n",
    "        model = build_net((*patch_size, 1), num_classes, fn_dict, net_list)\n",
    "\n",
    "        checkpoint_filepath = '/tmp/checkpoint'\n",
    "        model_checkpoint_callback = tf.keras.callbacks.ModelCheckpoint(\n",
    "            filepath=checkpoint_filepath,\n",
    "            save_weights_only=True,\n",
    "            monitor='val_gen_dice_coef',\n",
    "            mode='max',\n",
    "            save_best_only=True)\n",
    "\n",
    "        history = model.fit(\n",
    "            train_dataloader,\n",
    "            validation_data=val_dataloader,\n",
    "            epochs=epochs,\n",
    "            verbose=1,\n",
    "            callbacks=[\n",
    "                model_checkpoint_callback\n",
    "            ]\n",
    "        )\n",
    "\n",
    "        model.load_weights(checkpoint_filepath)\n",
    "\n",
    "        for patient in val_patients:\n",
    "            patient_dataset = SpleenDataset([patient], only_non_empty_slices=True)\n",
    "            patient_dataloader = SpleenDataloader(patient_dataset, 1, val_augmentation, shuffle=False)\n",
    "            results = model.evaluate(patient_dataloader)\n",
    "            val_gen_dice_coef_patient = results[-1]\n",
    "            val_gen_dice_coef_list.append(val_gen_dice_coef_patient)\n",
    "\n",
    "        #plotting the dice coef results (accuracy) as a function of the number of epochs\n",
    "        plt.figure()\n",
    "        plt.plot(history.history['gen_dice_coef'])\n",
    "        plt.plot(history.history['val_gen_dice_coef'])\n",
    "        plt.title('Model: Generalized Dice Coeficient')\n",
    "        plt.ylabel('Dice Coef')\n",
    "        plt.xlabel('Epoch')\n",
    "        plt.legend(['Train', 'Test'], loc='upper left')\n",
    "        plt.show()\n",
    "\n",
    "        #plotting the dice coeff results (loss function) as a function of the number of epochs\n",
    "        plt.figure()\n",
    "        plt.plot(history.history['loss'])\n",
    "        plt.plot(history.history['val_loss'])\n",
    "        plt.title('Model: Generalized Dice Coeficient')\n",
    "        plt.ylabel('Dice Loss')\n",
    "        plt.xlabel('Epoch')\n",
    "        plt.legend(['Train', 'Test'], loc='upper right')\n",
    "        plt.show()\n",
    "\n",
    "mean_val_gen_dice_coef = (np.mean(val_gen_dice_coef_list))\n",
    "std_val_gen_dice_coef = (np.std(val_gen_dice_coef_list))\n",
    "\n",
    "print(f'Dice {mean_val_gen_dice_coef} +- {std_val_gen_dice_coef}')"
   ]
  },
  {
   "cell_type": "code",
   "execution_count": null,
   "metadata": {},
   "outputs": [],
   "source": [
    "#!tensorboard --logdir='./logs'"
   ]
  }
 ],
 "metadata": {
  "kernelspec": {
   "display_name": "Python 3.8.10 ('.venv': venv)",
   "language": "python",
   "name": "python3"
  },
  "language_info": {
   "codemirror_mode": {
    "name": "ipython",
    "version": 3
   },
   "file_extension": ".py",
   "mimetype": "text/x-python",
   "name": "python",
   "nbconvert_exporter": "python",
   "pygments_lexer": "ipython3",
   "version": "3.8.10"
  },
  "orig_nbformat": 4,
  "vscode": {
   "interpreter": {
    "hash": "15b591e0ce635b5b9c208f30fdc7e069506189097a1aa8b055086f0ec8562519"
   }
  }
 },
 "nbformat": 4,
 "nbformat_minor": 2
}
