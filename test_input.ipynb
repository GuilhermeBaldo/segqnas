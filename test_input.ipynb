{
 "cells": [
  {
   "cell_type": "code",
   "execution_count": null,
   "metadata": {},
   "outputs": [],
   "source": [
    "from cnn.input import (\n",
    "    Dataloader,\n",
    "    Dataset,\n",
    "    get_list_of_patients,\n",
    "    get_split_deterministic,\n",
    "    get_training_augmentation,\n",
    "    get_validation_augmentation,\n",
    ")\n",
    "\n",
    "import matplotlib.pyplot as plt\n",
    "import random"
   ]
  },
  {
   "cell_type": "code",
   "execution_count": null,
   "metadata": {},
   "outputs": [],
   "source": [
    "data_path = \"spleen_dataset/data/Task09_Spleen_preprocessed/\""
   ]
  },
  {
   "cell_type": "code",
   "execution_count": null,
   "metadata": {},
   "outputs": [],
   "source": [
    "patients = get_list_of_patients(data_path)\n",
    "print(patients)"
   ]
  },
  {
   "cell_type": "code",
   "execution_count": null,
   "metadata": {},
   "outputs": [],
   "source": [
    "train_patients, val_patients = get_split_deterministic(\n",
    "    patients, fold=0, num_splits=5, random_state=12345\n",
    ")\n",
    "print(train_patients)\n",
    "print(val_patients)"
   ]
  },
  {
   "cell_type": "code",
   "execution_count": null,
   "metadata": {},
   "outputs": [],
   "source": [
    "patch_size = (128, 128, 1)\n",
    "batch_size = 32"
   ]
  },
  {
   "cell_type": "code",
   "execution_count": null,
   "metadata": {},
   "outputs": [],
   "source": [
    "train_dataset = Dataset(\n",
    "    data_path=data_path, patients=train_patients, only_non_empty_slices=True\n",
    ")\n",
    "train_augmentation = get_training_augmentation(patch_size)\n",
    "train_dataloader = Dataloader(\n",
    "    dataset=train_dataset,\n",
    "    batch_size=batch_size,\n",
    "    skip_slices=0,\n",
    "    augmentation=train_augmentation,\n",
    ")\n",
    "print(len(train_dataloader))"
   ]
  },
  {
   "cell_type": "code",
   "execution_count": null,
   "metadata": {},
   "outputs": [],
   "source": [
    "val_dataset = Dataset(\n",
    "    data_path=data_path, patients=val_patients, only_non_empty_slices=True\n",
    ")\n",
    "val_augmentation = get_validation_augmentation(patch_size)\n",
    "val_dataloader = Dataloader(\n",
    "    dataset=val_dataset,\n",
    "    batch_size=batch_size,\n",
    "    skip_slices=0,\n",
    "    augmentation=val_augmentation,\n",
    ")\n",
    "print(len(val_dataloader))"
   ]
  },
  {
   "cell_type": "code",
   "execution_count": null,
   "metadata": {},
   "outputs": [],
   "source": [
    "id = random.randint(0, len(train_dataset) - 1)\n",
    "image, label = train_dataset[id]\n",
    "\n",
    "print(image.shape)\n",
    "print(label.shape)\n",
    "\n",
    "fig = plt.figure(figsize=(15, 15))\n",
    "\n",
    "ax1 = fig.add_subplot(2, 2, 1)\n",
    "ax1.imshow(image)\n",
    "ax2 = fig.add_subplot(2, 2, 2)\n",
    "ax2.imshow(label)"
   ]
  },
  {
   "cell_type": "code",
   "execution_count": null,
   "metadata": {},
   "outputs": [],
   "source": [
    "id = random.randint(0, len(train_dataloader) - 1)\n",
    "images, labels = train_dataloader[id]\n",
    "\n",
    "image = images[0]\n",
    "label = labels[0]\n",
    "\n",
    "fig = plt.figure(figsize=(15, 15))\n",
    "\n",
    "ax1 = fig.add_subplot(2, 2, 1)\n",
    "ax1.imshow(image)\n",
    "ax2 = fig.add_subplot(2, 2, 2)\n",
    "ax2.imshow(label)"
   ]
  },
  {
   "cell_type": "code",
   "execution_count": null,
   "metadata": {},
   "outputs": [],
   "source": [
    "data_path = \"prostate_dataset/data/Task05_Prostate_preprocessed/\""
   ]
  },
  {
   "cell_type": "code",
   "execution_count": null,
   "metadata": {},
   "outputs": [],
   "source": [
    "patients = get_list_of_patients(data_path)\n",
    "print(patients)"
   ]
  },
  {
   "cell_type": "code",
   "execution_count": null,
   "metadata": {},
   "outputs": [],
   "source": [
    "patch_size = (128, 128, 2)\n",
    "batch_size = 32"
   ]
  },
  {
   "cell_type": "code",
   "execution_count": null,
   "metadata": {},
   "outputs": [],
   "source": [
    "train_patients, val_patients = get_split_deterministic(\n",
    "    patients, fold=0, num_splits=5, random_state=12345\n",
    ")\n",
    "print(train_patients)\n",
    "print(val_patients)"
   ]
  },
  {
   "cell_type": "code",
   "execution_count": null,
   "metadata": {},
   "outputs": [],
   "source": [
    "train_dataset = Dataset(\n",
    "    data_path=data_path, patients=train_patients, only_non_empty_slices=True\n",
    ")\n",
    "train_augmentation = get_training_augmentation(patch_size)\n",
    "train_dataloader = Dataloader(\n",
    "    dataset=train_dataset,\n",
    "    batch_size=batch_size,\n",
    "    skip_slices=0,\n",
    "    augmentation=train_augmentation,\n",
    ")\n",
    "print(len(train_dataloader))"
   ]
  },
  {
   "cell_type": "code",
   "execution_count": null,
   "metadata": {},
   "outputs": [],
   "source": [
    "val_dataset = Dataset(\n",
    "    data_path=data_path, patients=val_patients, only_non_empty_slices=True\n",
    ")\n",
    "val_augmentation = get_validation_augmentation(patch_size)\n",
    "val_dataloader = Dataloader(\n",
    "    dataset=val_dataset,\n",
    "    batch_size=batch_size,\n",
    "    skip_slices=0,\n",
    "    augmentation=val_augmentation,\n",
    ")\n",
    "print(len(val_dataloader))"
   ]
  },
  {
   "cell_type": "code",
   "execution_count": null,
   "metadata": {},
   "outputs": [],
   "source": [
    "id = random.randint(0, len(train_dataset) - 1)\n",
    "image, label = train_dataset[id]\n",
    "\n",
    "fig = plt.figure(figsize=(15, 15))\n",
    "\n",
    "ax1 = fig.add_subplot(1, 3, 1)\n",
    "ax1.imshow(image[..., 0])\n",
    "ax2 = fig.add_subplot(1, 3, 2)\n",
    "ax2.imshow(image[..., 1])\n",
    "ax3 = fig.add_subplot(1, 3, 3)\n",
    "ax3.imshow(label)"
   ]
  },
  {
   "cell_type": "code",
   "execution_count": null,
   "metadata": {},
   "outputs": [],
   "source": [
    "id = random.randint(0, len(train_dataloader) - 1)\n",
    "images, labels = train_dataloader[id]\n",
    "\n",
    "image = images[0]\n",
    "label = labels[0]\n",
    "\n",
    "fig = plt.figure(figsize=(15, 15))\n",
    "\n",
    "ax1 = fig.add_subplot(1, 3, 1)\n",
    "ax1.imshow(image[..., 0])\n",
    "ax2 = fig.add_subplot(1, 3, 2)\n",
    "ax2.imshow(image[..., 1])\n",
    "ax3 = fig.add_subplot(1, 3, 3)\n",
    "ax3.imshow(label)"
   ]
  },
  {
   "cell_type": "code",
   "execution_count": null,
   "metadata": {},
   "outputs": [],
   "source": [
    "batch_id = random.randint(0, len(val_dataloader) - 1)\n",
    "images, labels = val_dataloader[batch_id]\n",
    "\n",
    "sample_id = random.randint(0, len(images) - 1)\n",
    "image = images[sample_id]\n",
    "label = labels[sample_id]\n",
    "\n",
    "fig = plt.figure(figsize=(15, 15))\n",
    "\n",
    "ax1 = fig.add_subplot(1, 3, 1)\n",
    "ax1.imshow(image[..., 0])\n",
    "ax2 = fig.add_subplot(1, 3, 2)\n",
    "ax2.imshow(image[..., 1])\n",
    "ax3 = fig.add_subplot(1, 3, 3)\n",
    "ax3.imshow(label)"
   ]
  }
 ],
 "metadata": {
  "kernelspec": {
   "display_name": "Python 3.8.15 ('.venv': venv)",
   "language": "python",
   "name": "python3"
  },
  "language_info": {
   "codemirror_mode": {
    "name": "ipython",
    "version": 3
   },
   "file_extension": ".py",
   "mimetype": "text/x-python",
   "name": "python",
   "nbconvert_exporter": "python",
   "pygments_lexer": "ipython3",
   "version": "3.8.15"
  },
  "orig_nbformat": 4,
  "vscode": {
   "interpreter": {
    "hash": "15b591e0ce635b5b9c208f30fdc7e069506189097a1aa8b055086f0ec8562519"
   }
  }
 },
 "nbformat": 4,
 "nbformat_minor": 2
}
