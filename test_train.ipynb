{
 "cells": [
  {
   "cell_type": "code",
   "execution_count": null,
   "metadata": {},
   "outputs": [],
   "source": [
    "#!python prepare_data_spleen.py"
   ]
  },
  {
   "cell_type": "code",
   "execution_count": null,
   "metadata": {},
   "outputs": [],
   "source": [
    "from cnn.model import build_net\n",
    "from spleen_dataset.dataloader import SpleenDataloader, SpleenDataset, get_training_augmentation, get_validation_augmentation\n",
    "from spleen_dataset.config import dataset_folder\n",
    "from spleen_dataset.utils import get_split_deterministic, get_list_of_patients\n",
    "from sklearn.model_selection import train_test_split\n",
    "from tensorflow.keras.callbacks import ModelCheckpoint, ReduceLROnPlateau, EarlyStopping, TensorBoard\n",
    "import matplotlib.pyplot as plt\n",
    "import random\n",
    "\n",
    "import tensorflow as tf\n",
    "gpus = tf.config.experimental.list_physical_devices('GPU')\n",
    "# if gpus:\n",
    "#   try:\n",
    "#     tf.config.experimental.set_virtual_device_configuration(gpus[0], [tf.config.experimental.VirtualDeviceConfiguration(memory_limit=4096)])\n",
    "#   except RuntimeError as e:\n",
    "#     print(e)"
   ]
  },
  {
   "cell_type": "code",
   "execution_count": null,
   "metadata": {},
   "outputs": [],
   "source": [
    "data_path = './data/Task09_Spleen_2D'\n",
    "\n",
    "patch_size = (128, 128)\n",
    "batch_size = 32\n",
    "num_classes = 2\n",
    "\n",
    "augmentation = get_training_augmentation(patch_size)"
   ]
  },
  {
   "cell_type": "code",
   "execution_count": null,
   "metadata": {},
   "outputs": [],
   "source": [
    "patients = get_list_of_patients(dataset_folder)\n",
    "train_augmentation = get_training_augmentation(patch_size)\n",
    "val_augmentation = get_validation_augmentation(patch_size)\n",
    "\n",
    "train_patients, val_patients = get_split_deterministic(patients, fold=1, num_splits=5, random_state=0)\n",
    "\n",
    "train_dataset = SpleenDataset(train_patients, only_non_empty_slices=True)\n",
    "val_dataset = SpleenDataset(val_patients, only_non_empty_slices=True)\n",
    "\n",
    "train_dataloader = SpleenDataloader(train_dataset, batch_size, train_augmentation)\n",
    "val_dataloader = SpleenDataloader(val_dataset, batch_size, val_augmentation)"
   ]
  },
  {
   "cell_type": "code",
   "execution_count": null,
   "metadata": {},
   "outputs": [],
   "source": [
    "len(train_dataset)"
   ]
  },
  {
   "cell_type": "code",
   "execution_count": null,
   "metadata": {},
   "outputs": [],
   "source": [
    "len(train_dataloader)"
   ]
  },
  {
   "cell_type": "code",
   "execution_count": null,
   "metadata": {},
   "outputs": [],
   "source": [
    "id = random.randint(0, len(train_dataset))\n",
    "image, label = train_dataset[id]\n",
    "\n",
    "print(image.shape)\n",
    "print(label.shape)\n",
    "\n",
    "fig = plt.figure(figsize=(10, 10))\n",
    "\n",
    "ax1 = fig.add_subplot(2,2,1)\n",
    "ax1.imshow(image)\n",
    "ax2 = fig.add_subplot(2,2,2)\n",
    "ax2.imshow(label)"
   ]
  },
  {
   "cell_type": "code",
   "execution_count": null,
   "metadata": {},
   "outputs": [],
   "source": [
    "id = random.randint(0, len(train_dataloader))\n",
    "images, labels = train_dataloader[id]\n",
    "\n",
    "image = images[0]\n",
    "label =labels[0]\n",
    "\n",
    "print(image.shape)\n",
    "print(label.shape)\n",
    "\n",
    "fig = plt.figure(figsize=(10, 10))\n",
    "\n",
    "ax1 = fig.add_subplot(2,2,1)\n",
    "ax1.imshow(image)\n",
    "ax2 = fig.add_subplot(2,2,2)\n",
    "ax2.imshow(label)"
   ]
  },
  {
   "cell_type": "code",
   "execution_count": null,
   "metadata": {},
   "outputs": [],
   "source": [
    "net_list = [\n",
    "    'down_vgg_3', \n",
    "    'down_vgg_3',\n",
    "    'down_vgg_3',\n",
    "    'down_vgg_3',\n",
    "    'non_vgg_3',\n",
    "    'up_vgg_3',\n",
    "    'up_vgg_3',\n",
    "    'up_vgg_3',\n",
    "    'up_vgg_3'\n",
    "]\n",
    "\n",
    "fn_dict = {\n",
    "    'down_vgg_3': {'cell': 'DownscalingCell', 'block': 'VGGBlock', 'kernel': 3, 'prob': 1/3},\n",
    "    'up_vgg_3':   {'cell': 'UpscalingCell',   'block': 'VGGBlock', 'kernel': 3, 'prob': 1/3},\n",
    "    'non_vgg_3':  {'cell': 'NonscalingCell',  'block': 'VGGBlock', 'kernel': 3, 'prob': 1/3},\n",
    "}"
   ]
  },
  {
   "cell_type": "code",
   "execution_count": null,
   "metadata": {},
   "outputs": [],
   "source": [
    "model = build_net((*patch_size, 1), num_classes, fn_dict, net_list)\n",
    "model.summary()"
   ]
  },
  {
   "cell_type": "code",
   "execution_count": null,
   "metadata": {},
   "outputs": [],
   "source": [
    "from tensorflow.keras.utils import plot_model\n",
    "from IPython.display import Image\n",
    "\n",
    "plot_model(model,\n",
    "           to_file='model.png',\n",
    "           show_shapes=True,\n",
    "           show_layer_names=True,\n",
    "           rankdir='TB'\n",
    "            )\n",
    "Image('model.png')"
   ]
  },
  {
   "cell_type": "code",
   "execution_count": null,
   "metadata": {},
   "outputs": [],
   "source": [
    "history = model.fit(\n",
    "    train_dataloader,\n",
    "    validation_data=val_dataloader,\n",
    "    epochs=50,\n",
    "    callbacks=[\n",
    "        EarlyStopping(\n",
    "            monitor=\"val_loss\", mode=\"min\", verbose=1, patience=5\n",
    "        ),\n",
    "        # ModelCheckpoint(\n",
    "        #     \"best_model.h5\",\n",
    "        #     save_best_only=True,\n",
    "        #     monitor=\"val_loss\",\n",
    "        #     mode=\"min\",\n",
    "        # ),\n",
    "        # TensorBoard(log_dir=\"./logs\")\n",
    "    ],\n",
    ")"
   ]
  },
  {
   "cell_type": "code",
   "execution_count": null,
   "metadata": {},
   "outputs": [],
   "source": [
    "# plotting the dice coeff results (accuracy) as a function of the number of epochs\n",
    "plt.figure()\n",
    "plt.plot(history.history['gen_dice_coef'])\n",
    "plt.plot(history.history['val_gen_dice_coef'])\n",
    "plt.title('Model: Generalized Dice Coeficient')\n",
    "plt.ylabel('Dice Coef')\n",
    "plt.xlabel('Epoch')\n",
    "plt.legend(['Train', 'Test'], loc='upper left')\n",
    "plt.show()\n",
    "\n",
    "# plotting the dice coeff results (loss function) as a function of the number of epochs\n",
    "plt.figure()\n",
    "plt.plot(history.history['loss'])\n",
    "plt.plot(history.history['val_loss'])\n",
    "plt.title('Model: Generalized Dice Coeficient')\n",
    "plt.ylabel('Dice Loss')\n",
    "plt.xlabel('Epoch')\n",
    "plt.legend(['Train', 'Test'], loc='upper right')\n",
    "plt.show()"
   ]
  },
  {
   "cell_type": "code",
   "execution_count": null,
   "metadata": {},
   "outputs": [],
   "source": [
    "!tensorboard --logdir='./logs'"
   ]
  }
 ],
 "metadata": {
  "kernelspec": {
   "display_name": "Python 3.8.10 ('.venv': venv)",
   "language": "python",
   "name": "python3"
  },
  "language_info": {
   "codemirror_mode": {
    "name": "ipython",
    "version": 3
   },
   "file_extension": ".py",
   "mimetype": "text/x-python",
   "name": "python",
   "nbconvert_exporter": "python",
   "pygments_lexer": "ipython3",
   "version": "3.8.10"
  },
  "orig_nbformat": 4,
  "vscode": {
   "interpreter": {
    "hash": "15b591e0ce635b5b9c208f30fdc7e069506189097a1aa8b055086f0ec8562519"
   }
  }
 },
 "nbformat": 4,
 "nbformat_minor": 2
}
