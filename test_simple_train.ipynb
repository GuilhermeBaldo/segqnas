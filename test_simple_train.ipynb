{
 "cells": [
  {
   "cell_type": "code",
   "execution_count": 1,
   "metadata": {},
   "outputs": [
    {
     "name": "stderr",
     "output_type": "stream",
     "text": [
      "2022-07-10 14:20:35.209462: W tensorflow/stream_executor/platform/default/dso_loader.cc:64] Could not load dynamic library 'libcudart.so.11.0'; dlerror: libcudart.so.11.0: cannot open shared object file: No such file or directory\n",
      "2022-07-10 14:20:35.209477: I tensorflow/stream_executor/cuda/cudart_stub.cc:29] Ignore above cudart dlerror if you do not have a GPU set up on your machine.\n"
     ]
    },
    {
     "name": "stdout",
     "output_type": "stream",
     "text": [
      "Segmentation Models: using `keras` framework.\n"
     ]
    }
   ],
   "source": [
    "import segmentation_models as sm\n",
    "\n",
    "sm.set_framework('tf.keras')\n",
    "\n",
    "from cnn.input import PascalVOC2012Dataset, Dataloader, get_training_augmentation\n",
    "\n",
    "import os"
   ]
  },
  {
   "cell_type": "code",
   "execution_count": null,
   "metadata": {},
   "outputs": [],
   "source": [
    "train_dataset_descriptor_filepath = os.path.join(\n",
    "    'pascalvoc12',\n",
    "    'VOCdevkit',\n",
    "    'VOC2012',\n",
    "    'ImageSets',\n",
    "    'Segmentation',\n",
    "    'train.txt',\n",
    ")\n",
    "\n",
    "val_dataset_descriptor_filepath = os.path.join(\n",
    "    'pascalvoc12',\n",
    "    'VOCdevkit',\n",
    "    'VOC2012',\n",
    "    'ImageSets',\n",
    "    'Segmentation',\n",
    "    'val.txt',\n",
    ")\n",
    "\n",
    "images_path = os.path.join(\n",
    "    'pascalvoc12', \n",
    "    'VOCdevkit', \n",
    "    'VOC2012', \n",
    "    'JPEGImages'\n",
    ")\n",
    "\n",
    "masks_path = os.path.join(\n",
    "    'pascalvoc12', \n",
    "    'VOCdevkit', \n",
    "    'VOC2012', \n",
    "    'SegmentationClass'\n",
    ") "
   ]
  },
  {
   "cell_type": "code",
   "execution_count": null,
   "metadata": {},
   "outputs": [],
   "source": [
    "image_height = 128\n",
    "image_width = 128"
   ]
  },
  {
   "cell_type": "code",
   "execution_count": null,
   "metadata": {},
   "outputs": [
    {
     "name": "stderr",
     "output_type": "stream",
     "text": [
      "/home/guilherme/git/segqnas/.venv/lib/python3.8/site-packages/albumentations/augmentations/transforms.py:2029: UserWarning: Using lambda is incompatible with multiprocessing. Consider using regular functions or partial().\n",
      "  warnings.warn('Using lambda is incompatible with multiprocessing. '\n"
     ]
    }
   ],
   "source": [
    "train_dataset = PascalVOC2012Dataset(\n",
    "    train_dataset_descriptor_filepath,\n",
    "    images_path=images_path,\n",
    "    masks_path=masks_path,\n",
    "    image_height=image_height,\n",
    "    image_width=image_width,\n",
    "    #augmentation=get_training_augmentation(image_height, image_width),\n",
    ")\n",
    "\n",
    "val_dataset = PascalVOC2012Dataset(\n",
    "    val_dataset_descriptor_filepath,\n",
    "    images_path=images_path,\n",
    "    masks_path=masks_path,\n",
    "    image_height=image_height,\n",
    "    image_width=image_width,\n",
    ")"
   ]
  },
  {
   "cell_type": "code",
   "execution_count": null,
   "metadata": {},
   "outputs": [],
   "source": [
    "train_dataloader = Dataloader(train_dataset, batch_size=16, shuffle=True)\n",
    "val_dataloader = Dataloader(val_dataset, batch_size=16, shuffle=False)"
   ]
  },
  {
   "cell_type": "code",
   "execution_count": null,
   "metadata": {},
   "outputs": [
    {
     "name": "stderr",
     "output_type": "stream",
     "text": [
      "2022-07-10 14:04:03.035894: I tensorflow/stream_executor/cuda/cuda_gpu_executor.cc:975] successful NUMA node read from SysFS had negative value (-1), but there must be at least one NUMA node, so returning NUMA node zero\n",
      "2022-07-10 14:04:03.036226: W tensorflow/stream_executor/platform/default/dso_loader.cc:64] Could not load dynamic library 'libcudart.so.11.0'; dlerror: libcudart.so.11.0: cannot open shared object file: No such file or directory; LD_LIBRARY_PATH: /home/guilherme/git/segqnas/.venv/lib/python3.8/site-packages/cv2/../../lib64:\n",
      "2022-07-10 14:04:03.036337: W tensorflow/stream_executor/platform/default/dso_loader.cc:64] Could not load dynamic library 'libcublas.so.11'; dlerror: libcublas.so.11: cannot open shared object file: No such file or directory; LD_LIBRARY_PATH: /home/guilherme/git/segqnas/.venv/lib/python3.8/site-packages/cv2/../../lib64:\n",
      "2022-07-10 14:04:03.036406: W tensorflow/stream_executor/platform/default/dso_loader.cc:64] Could not load dynamic library 'libcublasLt.so.11'; dlerror: libcublasLt.so.11: cannot open shared object file: No such file or directory; LD_LIBRARY_PATH: /home/guilherme/git/segqnas/.venv/lib/python3.8/site-packages/cv2/../../lib64:\n",
      "2022-07-10 14:04:03.036472: W tensorflow/stream_executor/platform/default/dso_loader.cc:64] Could not load dynamic library 'libcufft.so.10'; dlerror: libcufft.so.10: cannot open shared object file: No such file or directory; LD_LIBRARY_PATH: /home/guilherme/git/segqnas/.venv/lib/python3.8/site-packages/cv2/../../lib64:\n",
      "2022-07-10 14:04:03.036535: W tensorflow/stream_executor/platform/default/dso_loader.cc:64] Could not load dynamic library 'libcurand.so.10'; dlerror: libcurand.so.10: cannot open shared object file: No such file or directory; LD_LIBRARY_PATH: /home/guilherme/git/segqnas/.venv/lib/python3.8/site-packages/cv2/../../lib64:\n",
      "2022-07-10 14:04:03.036597: W tensorflow/stream_executor/platform/default/dso_loader.cc:64] Could not load dynamic library 'libcusolver.so.11'; dlerror: libcusolver.so.11: cannot open shared object file: No such file or directory; LD_LIBRARY_PATH: /home/guilherme/git/segqnas/.venv/lib/python3.8/site-packages/cv2/../../lib64:\n",
      "2022-07-10 14:04:03.036660: W tensorflow/stream_executor/platform/default/dso_loader.cc:64] Could not load dynamic library 'libcusparse.so.11'; dlerror: libcusparse.so.11: cannot open shared object file: No such file or directory; LD_LIBRARY_PATH: /home/guilherme/git/segqnas/.venv/lib/python3.8/site-packages/cv2/../../lib64:\n",
      "2022-07-10 14:04:03.036723: W tensorflow/stream_executor/platform/default/dso_loader.cc:64] Could not load dynamic library 'libcudnn.so.8'; dlerror: libcudnn.so.8: cannot open shared object file: No such file or directory; LD_LIBRARY_PATH: /home/guilherme/git/segqnas/.venv/lib/python3.8/site-packages/cv2/../../lib64:\n",
      "2022-07-10 14:04:03.036733: W tensorflow/core/common_runtime/gpu/gpu_device.cc:1850] Cannot dlopen some GPU libraries. Please make sure the missing libraries mentioned above are installed properly if you would like to use GPU. Follow the guide at https://www.tensorflow.org/install/gpu for how to download and setup the required libraries for your platform.\n",
      "Skipping registering GPU devices...\n",
      "2022-07-10 14:04:03.037387: I tensorflow/core/platform/cpu_feature_guard.cc:193] This TensorFlow binary is optimized with oneAPI Deep Neural Network Library (oneDNN) to use the following CPU instructions in performance-critical operations:  AVX2 FMA\n",
      "To enable them in other operations, rebuild TensorFlow with the appropriate compiler flags.\n"
     ]
    },
    {
     "name": "stdout",
     "output_type": "stream",
     "text": [
      "Downloading data from https://github.com/Callidior/keras-applications/releases/download/efficientnet/efficientnet-b0_weights_tf_dim_ordering_tf_kernels_autoaugment_notop.h5\n",
      "16804768/16804768 [==============================] - 1s 0us/step\n"
     ]
    }
   ],
   "source": [
    "net = sm.Unet('efficientnetb0', classes=21, input_shape=(image_height, image_width, 3), activation='softmax', encoder_weights='imagenet')"
   ]
  },
  {
   "cell_type": "code",
   "execution_count": null,
   "metadata": {},
   "outputs": [],
   "source": [
    "net.compile(                                                                                                                                                                                                                                                                                                                                                                                                                                                                                                                                                                        \n",
    "    optimizer='Adam',\n",
    "    loss=sm.losses.categorical_focal_dice_loss,\n",
    "    metrics=[sm.metrics.IOUScore(threshold=0.5)],\n",
    ")"
   ]
  },
  {
   "cell_type": "code",
   "execution_count": null,
   "metadata": {},
   "outputs": [
    {
     "name": "stdout",
     "output_type": "stream",
     "text": [
      "Epoch 1/50\n",
      "14/45 [========>.....................] - ETA: 4:02 - loss: 0.9926 - iou_score: 0.0643"
     ]
    },
    {
     "ename": "",
     "evalue": "",
     "output_type": "error",
     "traceback": [
      "\u001b[1;31mCanceled future for execute_request message before replies were done"
     ]
    },
    {
     "ename": "",
     "evalue": "",
     "output_type": "error",
     "traceback": [
      "\u001b[1;31mThe Kernel crashed while executing code in the the current cell or a previous cell. Please review the code in the cell(s) to identify a possible cause of the failure. Click <a href='https://aka.ms/vscodeJupyterKernelCrash'>here</a> for more info. View Jupyter <a href='command:jupyter.viewOutput'>log</a> for further details."
     ]
    }
   ],
   "source": [
    "history = net.fit(train_dataloader, \n",
    "                validation_data=val_dataloader,\n",
    "                epochs=50)"
   ]
  }
 ],
 "metadata": {
  "kernelspec": {
   "display_name": "Python 3.8.10 ('.venv': venv)",
   "language": "python",
   "name": "python3"
  },
  "language_info": {
   "codemirror_mode": {
    "name": "ipython",
    "version": 3
   },
   "file_extension": ".py",
   "mimetype": "text/x-python",
   "name": "python",
   "nbconvert_exporter": "python",
   "pygments_lexer": "ipython3",
   "version": "3.8.10"
  },
  "orig_nbformat": 4,
  "vscode": {
   "interpreter": {
    "hash": "15b591e0ce635b5b9c208f30fdc7e069506189097a1aa8b055086f0ec8562519"
   }
  }
 },
 "nbformat": 4,
 "nbformat_minor": 2
}
