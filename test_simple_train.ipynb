{
 "cells": [
  {
   "cell_type": "code",
   "execution_count": 7,
   "metadata": {},
   "outputs": [],
   "source": [
    "import segmentation_models as sm\n",
    "\n",
    "sm.set_framework('tf.keras')\n",
    "\n",
    "from cnn.input import PascalVOC2012Dataset, Dataloader, get_training_augmentation\n",
    "\n",
    "import os"
   ]
  },
  {
   "cell_type": "code",
   "execution_count": 8,
   "metadata": {},
   "outputs": [],
   "source": [
    "train_dataset_descriptor_filepath = os.path.join(\n",
    "    'pascalvoc12',\n",
    "    'VOCdevkit',\n",
    "    'VOC2012',\n",
    "    'ImageSets',\n",
    "    'Segmentation',\n",
    "    'train.txt',\n",
    ")\n",
    "\n",
    "val_dataset_descriptor_filepath = os.path.join(\n",
    "    'pascalvoc12',\n",
    "    'VOCdevkit',\n",
    "    'VOC2012',\n",
    "    'ImageSets',\n",
    "    'Segmentation',\n",
    "    'val.txt',\n",
    ")\n",
    "\n",
    "images_path = os.path.join(\n",
    "    'pascalvoc12', \n",
    "    'VOCdevkit', \n",
    "    'VOC2012', \n",
    "    'JPEGImages'\n",
    ")\n",
    "\n",
    "masks_path = os.path.join(\n",
    "    'pascalvoc12', \n",
    "    'VOCdevkit', \n",
    "    'VOC2012', \n",
    "    'SegmentationClass'\n",
    ") "
   ]
  },
  {
   "cell_type": "code",
   "execution_count": 9,
   "metadata": {},
   "outputs": [],
   "source": [
    "image_height = 256\n",
    "image_width = 256"
   ]
  },
  {
   "cell_type": "code",
   "execution_count": 10,
   "metadata": {},
   "outputs": [],
   "source": [
    "train_dataset = PascalVOC2012Dataset(\n",
    "    train_dataset_descriptor_filepath,\n",
    "    images_path=images_path,\n",
    "    masks_path=masks_path,\n",
    "    image_height=image_height,\n",
    "    image_width=image_width,\n",
    "    augmentation=get_training_augmentation(image_height, image_width),\n",
    ")\n",
    "\n",
    "val_dataset = PascalVOC2012Dataset(\n",
    "    val_dataset_descriptor_filepath,\n",
    "    images_path=images_path,\n",
    "    masks_path=masks_path,\n",
    "    image_height=image_height,\n",
    "    image_width=image_width,\n",
    ")"
   ]
  },
  {
   "cell_type": "code",
   "execution_count": 11,
   "metadata": {},
   "outputs": [],
   "source": [
    "train_dataloader = Dataloader(train_dataset, batch_size=16, shuffle=True)\n",
    "val_dataloader = Dataloader(val_dataset, batch_size=16, shuffle=False)"
   ]
  },
  {
   "cell_type": "code",
   "execution_count": 12,
   "metadata": {},
   "outputs": [
    {
     "name": "stdout",
     "output_type": "stream",
     "text": [
      "Epoch 1/50\n"
     ]
    },
    {
     "ename": "",
     "evalue": "",
     "output_type": "error",
     "traceback": [
      "\u001b[1;31mCanceled future for execute_request message before replies were done"
     ]
    },
    {
     "ename": "",
     "evalue": "",
     "output_type": "error",
     "traceback": [
      "\u001b[1;31mThe Kernel crashed while executing code in the the current cell or a previous cell. Please review the code in the cell(s) to identify a possible cause of the failure. Click <a href='https://aka.ms/vscodeJupyterKernelCrash'>here</a> for more info. View Jupyter <a href='command:jupyter.viewOutput'>log</a> for further details."
     ]
    }
   ],
   "source": [
    "net = sm.Unet('resnet34', classes=21, input_shape=(image_height, image_width, 3), activation='softmax', encoder_weights='imagenet')\n",
    "\n",
    "net.compile(                                                                                                                                                                                                                                                                                                                                                                                                                                                                                                                                                                        \n",
    "    optimizer='Adam',\n",
    "    loss=sm.losses.categorical_focal_dice_loss,\n",
    "    metrics=[sm.metrics.IOUScore(threshold=0.5)],\n",
    ")\n",
    "\n",
    "history = net.fit(train_dataloader, \n",
    "                validation_data=val_dataloader,\n",
    "                epochs=50)\n"
   ]
  }
 ],
 "metadata": {
  "kernelspec": {
   "display_name": "Python 3.8.10 ('.venv': venv)",
   "language": "python",
   "name": "python3"
  },
  "language_info": {
   "codemirror_mode": {
    "name": "ipython",
    "version": 3
   },
   "file_extension": ".py",
   "mimetype": "text/x-python",
   "name": "python",
   "nbconvert_exporter": "python",
   "pygments_lexer": "ipython3",
   "version": "3.8.10"
  },
  "orig_nbformat": 4,
  "vscode": {
   "interpreter": {
    "hash": "15b591e0ce635b5b9c208f30fdc7e069506189097a1aa8b055086f0ec8562519"
   }
  }
 },
 "nbformat": 4,
 "nbformat_minor": 2
}
